{
 "cells": [
  {
   "cell_type": "markdown",
   "metadata": {},
   "source": [
    "Build robust dataset to solve real-world problems and see how your data preparation ultimately impacts how effective your models are. Additionally, building better features is after data, the second most important way to impact Machine Learning performance. In this part, the dataset is neatly divided into train and test set. What I will do is to deal with missing values and choose right features and their formats for the right algorithms then evaluate their performance, according to the evaluation, tune the features and update this process until no improvement on model performance."
   ]
  },
  {
   "cell_type": "markdown",
   "metadata": {},
   "source": [
    "### 1. Import libraries for data preprocessing"
   ]
  },
  {
   "cell_type": "code",
   "execution_count": 1,
   "metadata": {},
   "outputs": [],
   "source": [
    "import os\n",
    "os.environ['KMP_DUPLICATE_LIB_OK']='True'\n",
    "from xgboost import XGBClassifier"
   ]
  },
  {
   "cell_type": "code",
   "execution_count": 178,
   "metadata": {},
   "outputs": [],
   "source": [
    "import warnings\n",
    "warnings.filterwarnings('ignore')\n",
    "import sys\n",
    "import numpy as np\n",
    "import pandas as pd\n",
    "import matplotlib.pyplot as plt\n",
    "%matplotlib inline\n",
    "import seaborn as sns\n",
    "\n",
    "from sklearn.metrics import mean_squared_error\n",
    "from sklearn.model_selection import KFold, cross_val_score, train_test_split\n",
    "# Machine Learning algorithms\n",
    "from sklearn.linear_model import Lasso, LinearRegression\n",
    "from sklearn.tree import DecisionTreeRegressor \n",
    "from sklearn.ensemble import RandomForestRegressor,GradientBoostingRegressor\n",
    "from sklearn.ensemble import AdaBoostRegressor\n",
    "from sklearn.ensemble import BaggingRegressor\n",
    "# Fine tune hyper-parameters\n",
    "from sklearn.model_selection import GridSearchCV,RandomizedSearchCV\n",
    "import xgboost as xgb\n",
    "\n",
    "from sklearn.preprocessing import LabelEncoder"
   ]
  },
  {
   "cell_type": "code",
   "execution_count": 361,
   "metadata": {},
   "outputs": [],
   "source": [
    "# Reading datasets\n",
    "train = pd.read_csv(\"train.csv\")\n",
    "test = pd.read_csv(\"test.csv\")\n",
    "submit = pd.read_csv(\"Sample_Submission.csv\")\n",
    "\n",
    "# Saving id variables to create final submission\n",
    "ids_test = test['User_ID'].copy()\n",
    "product_ids_test = test['Product_ID'].copy()"
   ]
  },
  {
   "cell_type": "code",
   "execution_count": 362,
   "metadata": {},
   "outputs": [
    {
     "data": {
      "text/plain": [
       "(550068, 12)"
      ]
     },
     "execution_count": 362,
     "metadata": {},
     "output_type": "execute_result"
    }
   ],
   "source": [
    "train.shape"
   ]
  },
  {
   "cell_type": "markdown",
   "metadata": {},
   "source": [
    "The train and test datasets contained 550,068 and 233,599 instances respectively. There are 11 features, four of them are masked and two of them are with missing values."
   ]
  },
  {
   "cell_type": "code",
   "execution_count": 6,
   "metadata": {},
   "outputs": [
    {
     "data": {
      "text/html": [
       "<div>\n",
       "<style scoped>\n",
       "    .dataframe tbody tr th:only-of-type {\n",
       "        vertical-align: middle;\n",
       "    }\n",
       "\n",
       "    .dataframe tbody tr th {\n",
       "        vertical-align: top;\n",
       "    }\n",
       "\n",
       "    .dataframe thead th {\n",
       "        text-align: right;\n",
       "    }\n",
       "</style>\n",
       "<table border=\"1\" class=\"dataframe\">\n",
       "  <thead>\n",
       "    <tr style=\"text-align: right;\">\n",
       "      <th></th>\n",
       "      <th>User_ID</th>\n",
       "      <th>Product_ID</th>\n",
       "      <th>Gender</th>\n",
       "      <th>Age</th>\n",
       "      <th>Occupation</th>\n",
       "      <th>City_Category</th>\n",
       "      <th>Stay_In_Current_City_Years</th>\n",
       "      <th>Marital_Status</th>\n",
       "      <th>Product_Category_1</th>\n",
       "      <th>Product_Category_2</th>\n",
       "      <th>Product_Category_3</th>\n",
       "      <th>Purchase</th>\n",
       "    </tr>\n",
       "  </thead>\n",
       "  <tbody>\n",
       "    <tr>\n",
       "      <th>0</th>\n",
       "      <td>1000001</td>\n",
       "      <td>P00069042</td>\n",
       "      <td>F</td>\n",
       "      <td>0-17</td>\n",
       "      <td>10</td>\n",
       "      <td>A</td>\n",
       "      <td>2</td>\n",
       "      <td>0</td>\n",
       "      <td>3</td>\n",
       "      <td>NaN</td>\n",
       "      <td>NaN</td>\n",
       "      <td>8370</td>\n",
       "    </tr>\n",
       "    <tr>\n",
       "      <th>1</th>\n",
       "      <td>1000001</td>\n",
       "      <td>P00248942</td>\n",
       "      <td>F</td>\n",
       "      <td>0-17</td>\n",
       "      <td>10</td>\n",
       "      <td>A</td>\n",
       "      <td>2</td>\n",
       "      <td>0</td>\n",
       "      <td>1</td>\n",
       "      <td>6.0</td>\n",
       "      <td>14.0</td>\n",
       "      <td>15200</td>\n",
       "    </tr>\n",
       "    <tr>\n",
       "      <th>2</th>\n",
       "      <td>1000001</td>\n",
       "      <td>P00087842</td>\n",
       "      <td>F</td>\n",
       "      <td>0-17</td>\n",
       "      <td>10</td>\n",
       "      <td>A</td>\n",
       "      <td>2</td>\n",
       "      <td>0</td>\n",
       "      <td>12</td>\n",
       "      <td>NaN</td>\n",
       "      <td>NaN</td>\n",
       "      <td>1422</td>\n",
       "    </tr>\n",
       "    <tr>\n",
       "      <th>3</th>\n",
       "      <td>1000001</td>\n",
       "      <td>P00085442</td>\n",
       "      <td>F</td>\n",
       "      <td>0-17</td>\n",
       "      <td>10</td>\n",
       "      <td>A</td>\n",
       "      <td>2</td>\n",
       "      <td>0</td>\n",
       "      <td>12</td>\n",
       "      <td>14.0</td>\n",
       "      <td>NaN</td>\n",
       "      <td>1057</td>\n",
       "    </tr>\n",
       "    <tr>\n",
       "      <th>4</th>\n",
       "      <td>1000002</td>\n",
       "      <td>P00285442</td>\n",
       "      <td>M</td>\n",
       "      <td>55+</td>\n",
       "      <td>16</td>\n",
       "      <td>C</td>\n",
       "      <td>4+</td>\n",
       "      <td>0</td>\n",
       "      <td>8</td>\n",
       "      <td>NaN</td>\n",
       "      <td>NaN</td>\n",
       "      <td>7969</td>\n",
       "    </tr>\n",
       "  </tbody>\n",
       "</table>\n",
       "</div>"
      ],
      "text/plain": [
       "   User_ID Product_ID Gender   Age  Occupation City_Category  \\\n",
       "0  1000001  P00069042      F  0-17          10             A   \n",
       "1  1000001  P00248942      F  0-17          10             A   \n",
       "2  1000001  P00087842      F  0-17          10             A   \n",
       "3  1000001  P00085442      F  0-17          10             A   \n",
       "4  1000002  P00285442      M   55+          16             C   \n",
       "\n",
       "  Stay_In_Current_City_Years  Marital_Status  Product_Category_1  \\\n",
       "0                          2               0                   3   \n",
       "1                          2               0                   1   \n",
       "2                          2               0                  12   \n",
       "3                          2               0                  12   \n",
       "4                         4+               0                   8   \n",
       "\n",
       "   Product_Category_2  Product_Category_3  Purchase  \n",
       "0                 NaN                 NaN      8370  \n",
       "1                 6.0                14.0     15200  \n",
       "2                 NaN                 NaN      1422  \n",
       "3                14.0                 NaN      1057  \n",
       "4                 NaN                 NaN      7969  "
      ]
     },
     "execution_count": 6,
     "metadata": {},
     "output_type": "execute_result"
    }
   ],
   "source": [
    "train.head()"
   ]
  },
  {
   "cell_type": "code",
   "execution_count": 7,
   "metadata": {},
   "outputs": [
    {
     "data": {
      "text/html": [
       "<div>\n",
       "<style scoped>\n",
       "    .dataframe tbody tr th:only-of-type {\n",
       "        vertical-align: middle;\n",
       "    }\n",
       "\n",
       "    .dataframe tbody tr th {\n",
       "        vertical-align: top;\n",
       "    }\n",
       "\n",
       "    .dataframe thead th {\n",
       "        text-align: right;\n",
       "    }\n",
       "</style>\n",
       "<table border=\"1\" class=\"dataframe\">\n",
       "  <thead>\n",
       "    <tr style=\"text-align: right;\">\n",
       "      <th></th>\n",
       "      <th>User_ID</th>\n",
       "      <th>Product_ID</th>\n",
       "      <th>Gender</th>\n",
       "      <th>Age</th>\n",
       "      <th>Occupation</th>\n",
       "      <th>City_Category</th>\n",
       "      <th>Stay_In_Current_City_Years</th>\n",
       "      <th>Marital_Status</th>\n",
       "      <th>Product_Category_1</th>\n",
       "      <th>Product_Category_2</th>\n",
       "      <th>Product_Category_3</th>\n",
       "    </tr>\n",
       "  </thead>\n",
       "  <tbody>\n",
       "    <tr>\n",
       "      <th>0</th>\n",
       "      <td>1000004</td>\n",
       "      <td>P00128942</td>\n",
       "      <td>M</td>\n",
       "      <td>46-50</td>\n",
       "      <td>7</td>\n",
       "      <td>B</td>\n",
       "      <td>2</td>\n",
       "      <td>1</td>\n",
       "      <td>1</td>\n",
       "      <td>11.0</td>\n",
       "      <td>NaN</td>\n",
       "    </tr>\n",
       "    <tr>\n",
       "      <th>1</th>\n",
       "      <td>1000009</td>\n",
       "      <td>P00113442</td>\n",
       "      <td>M</td>\n",
       "      <td>26-35</td>\n",
       "      <td>17</td>\n",
       "      <td>C</td>\n",
       "      <td>0</td>\n",
       "      <td>0</td>\n",
       "      <td>3</td>\n",
       "      <td>5.0</td>\n",
       "      <td>NaN</td>\n",
       "    </tr>\n",
       "    <tr>\n",
       "      <th>2</th>\n",
       "      <td>1000010</td>\n",
       "      <td>P00288442</td>\n",
       "      <td>F</td>\n",
       "      <td>36-45</td>\n",
       "      <td>1</td>\n",
       "      <td>B</td>\n",
       "      <td>4+</td>\n",
       "      <td>1</td>\n",
       "      <td>5</td>\n",
       "      <td>14.0</td>\n",
       "      <td>NaN</td>\n",
       "    </tr>\n",
       "    <tr>\n",
       "      <th>3</th>\n",
       "      <td>1000010</td>\n",
       "      <td>P00145342</td>\n",
       "      <td>F</td>\n",
       "      <td>36-45</td>\n",
       "      <td>1</td>\n",
       "      <td>B</td>\n",
       "      <td>4+</td>\n",
       "      <td>1</td>\n",
       "      <td>4</td>\n",
       "      <td>9.0</td>\n",
       "      <td>NaN</td>\n",
       "    </tr>\n",
       "    <tr>\n",
       "      <th>4</th>\n",
       "      <td>1000011</td>\n",
       "      <td>P00053842</td>\n",
       "      <td>F</td>\n",
       "      <td>26-35</td>\n",
       "      <td>1</td>\n",
       "      <td>C</td>\n",
       "      <td>1</td>\n",
       "      <td>0</td>\n",
       "      <td>4</td>\n",
       "      <td>5.0</td>\n",
       "      <td>12.0</td>\n",
       "    </tr>\n",
       "  </tbody>\n",
       "</table>\n",
       "</div>"
      ],
      "text/plain": [
       "   User_ID Product_ID Gender    Age  Occupation City_Category  \\\n",
       "0  1000004  P00128942      M  46-50           7             B   \n",
       "1  1000009  P00113442      M  26-35          17             C   \n",
       "2  1000010  P00288442      F  36-45           1             B   \n",
       "3  1000010  P00145342      F  36-45           1             B   \n",
       "4  1000011  P00053842      F  26-35           1             C   \n",
       "\n",
       "  Stay_In_Current_City_Years  Marital_Status  Product_Category_1  \\\n",
       "0                          2               1                   1   \n",
       "1                          0               0                   3   \n",
       "2                         4+               1                   5   \n",
       "3                         4+               1                   4   \n",
       "4                          1               0                   4   \n",
       "\n",
       "   Product_Category_2  Product_Category_3  \n",
       "0                11.0                 NaN  \n",
       "1                 5.0                 NaN  \n",
       "2                14.0                 NaN  \n",
       "3                 9.0                 NaN  \n",
       "4                 5.0                12.0  "
      ]
     },
     "execution_count": 7,
     "metadata": {},
     "output_type": "execute_result"
    }
   ],
   "source": [
    "test.head()"
   ]
  },
  {
   "cell_type": "code",
   "execution_count": 8,
   "metadata": {},
   "outputs": [
    {
     "data": {
      "text/plain": [
       "(233599, 11)"
      ]
     },
     "execution_count": 8,
     "metadata": {},
     "output_type": "execute_result"
    }
   ],
   "source": [
    "test.shape  "
   ]
  },
  {
   "cell_type": "markdown",
   "metadata": {},
   "source": [
    "### 2. Data Pre-Processing"
   ]
  },
  {
   "cell_type": "code",
   "execution_count": 109,
   "metadata": {},
   "outputs": [
    {
     "name": "stdout",
     "output_type": "stream",
     "text": [
      "<class 'pandas.core.frame.DataFrame'>\n",
      "RangeIndex: 550068 entries, 0 to 550067\n",
      "Data columns (total 12 columns):\n",
      "User_ID                       550068 non-null int64\n",
      "Product_ID                    550068 non-null object\n",
      "Gender                        550068 non-null object\n",
      "Age                           550068 non-null object\n",
      "Occupation                    550068 non-null int64\n",
      "City_Category                 550068 non-null object\n",
      "Stay_In_Current_City_Years    550068 non-null object\n",
      "Marital_Status                550068 non-null int64\n",
      "Product_Category_1            550068 non-null int64\n",
      "Product_Category_2            376430 non-null float64\n",
      "Product_Category_3            166821 non-null float64\n",
      "Purchase                      550068 non-null int64\n",
      "dtypes: float64(2), int64(5), object(5)\n",
      "memory usage: 50.4+ MB\n"
     ]
    }
   ],
   "source": [
    "train.info() "
   ]
  },
  {
   "cell_type": "markdown",
   "metadata": {},
   "source": [
    "#### 2.1 Checking for missing value"
   ]
  },
  {
   "cell_type": "code",
   "execution_count": 110,
   "metadata": {},
   "outputs": [
    {
     "name": "stdout",
     "output_type": "stream",
     "text": [
      "Train columns with null values:\n",
      "User_ID                            0\n",
      "Product_ID                         0\n",
      "Gender                             0\n",
      "Age                                0\n",
      "Occupation                         0\n",
      "City_Category                      0\n",
      "Stay_In_Current_City_Years         0\n",
      "Marital_Status                     0\n",
      "Product_Category_1                 0\n",
      "Product_Category_2            173638\n",
      "Product_Category_3            383247\n",
      "Purchase                           0\n",
      "dtype: int64\n",
      "----------\n",
      "Test/Validation columns with null values:\n",
      "User_ID                            0\n",
      "Product_ID                         0\n",
      "Gender                             0\n",
      "Age                                0\n",
      "Occupation                         0\n",
      "City_Category                      0\n",
      "Stay_In_Current_City_Years         0\n",
      "Marital_Status                     0\n",
      "Product_Category_1                 0\n",
      "Product_Category_2             72344\n",
      "Product_Category_3            162562\n",
      "dtype: int64\n",
      "----------\n"
     ]
    }
   ],
   "source": [
    "print('Train columns with null values:')\n",
    "print(train.isnull().sum())\n",
    "print(\"-\"*10)\n",
    "print('Test/Validation columns with null values:')\n",
    "print(test.isnull().sum())\n",
    "print(\"-\"*10)"
   ]
  },
  {
   "cell_type": "markdown",
   "metadata": {},
   "source": [
    "• Fill in missing values \n",
    "\n",
    "In EDA part, we detect that variables 'Product_Category_2' and 'Product_Category_3' both have 31.57%, 69.67%, 30.97% and 69.59% missing values in training set and test set,respectively. Since there are too many missing values in these two features, compared to filling them with other numbers and adding noise to the dataset, I decide to directly drop them. (Further, I actually run the model with these two features and without them, the result shows that RMSE is smaller if dataset does not contain two features. However, I am not sure whether the result will improve a lot if I use other imputation method like building a model instead of filling with subjective numbers.)"
   ]
  },
  {
   "cell_type": "code",
   "execution_count": 363,
   "metadata": {},
   "outputs": [],
   "source": [
    "# drop 'Product_Category_2' and  'Product_Category_3' variables since too many missing values\n",
    "train.drop(['Product_Category_2','Product_Category_3'],inplace=True,axis=1)\n",
    "test.drop(['Product_Category_2','Product_Category_3'],inplace=True,axis=1)"
   ]
  },
  {
   "cell_type": "markdown",
   "metadata": {},
   "source": [
    "#### Summary of data :"
   ]
  },
  {
   "cell_type": "markdown",
   "metadata": {},
   "source": [
    "<b> Age : </b>  should be treated as numerical. It presents age groups.\n",
    "\n",
    "<b>City_Category:  </b>We can convert this to numerical as well, with dummy variables. Should take a look at the frequency of the values.\n",
    "\n",
    "<b>Occupation : </b>It seems like it has at least 16 different values, should see frequency and try to decrease this value.\n",
    "\n",
    "<b>Gender:</b> There are possibly two gender, we can make this binary.\n",
    "\n",
    "<b>Product_ID:</b> Should see if the string “P” means something and if there are other values.\n",
    "\n",
    "<b>Stay_In_Current_City_Years: </b>We should deal with the ‘+’ symbol.\n",
    "\n",
    "<b>Product_Category_2 and Product_Category_3 :</b> Have NaN values. We have already dropped it out."
   ]
  },
  {
   "cell_type": "code",
   "execution_count": 364,
   "metadata": {},
   "outputs": [
    {
     "data": {
      "text/plain": [
       "User_ID                        5891\n",
       "Product_ID                     3631\n",
       "Gender                            2\n",
       "Age                               7\n",
       "Occupation                       21\n",
       "City_Category                     3\n",
       "Stay_In_Current_City_Years        5\n",
       "Marital_Status                    2\n",
       "Product_Category_1               20\n",
       "Purchase                      18105\n",
       "dtype: int64"
      ]
     },
     "execution_count": 364,
     "metadata": {},
     "output_type": "execute_result"
    }
   ],
   "source": [
    "#Apply function len(unique()) to every data variable\n",
    "train.apply(lambda x: len(x.unique()))"
   ]
  },
  {
   "cell_type": "markdown",
   "metadata": {},
   "source": [
    "#### 1.2 Frequency Analysis"
   ]
  },
  {
   "cell_type": "code",
   "execution_count": 27,
   "metadata": {},
   "outputs": [
    {
     "name": "stdout",
     "output_type": "stream",
     "text": [
      "\n",
      "This is the frequency distribution for Product_ID:\n",
      "P00265242    1880\n",
      "P00025442    1615\n",
      "P00110742    1612\n",
      "P00112142    1562\n",
      "P00057642    1470\n",
      "             ... \n",
      "P00081342       1\n",
      "P00301442       1\n",
      "P00083142       1\n",
      "P00364342       1\n",
      "P00081642       1\n",
      "Name: Product_ID, Length: 3631, dtype: int64\n",
      "\n",
      "This is the frequency distribution for Gender:\n",
      "M    414259\n",
      "F    135809\n",
      "Name: Gender, dtype: int64\n",
      "\n",
      "This is the frequency distribution for Age:\n",
      "26-35    219587\n",
      "36-45    110013\n",
      "18-25     99660\n",
      "46-50     45701\n",
      "51-55     38501\n",
      "55+       21504\n",
      "0-17      15102\n",
      "Name: Age, dtype: int64\n",
      "\n",
      "This is the frequency distribution for City_Category:\n",
      "B    231173\n",
      "C    171175\n",
      "A    147720\n",
      "Name: City_Category, dtype: int64\n",
      "\n",
      "This is the frequency distribution for Stay_In_Current_City_Years:\n",
      "1     193821\n",
      "2     101838\n",
      "3      95285\n",
      "4+     84726\n",
      "0      74398\n",
      "Name: Stay_In_Current_City_Years, dtype: int64\n"
     ]
    }
   ],
   "source": [
    "category_cols = train.select_dtypes(include=['object'])\n",
    "for col in category_cols:\n",
    " #Number of times each value appears in the column\n",
    "    frequency = train[col].value_counts()\n",
    "    print('\\nThis is the frequency distribution for ' + col + ':')\n",
    "    print(frequency)"
   ]
  },
  {
   "cell_type": "markdown",
   "metadata": {},
   "source": [
    "### 2. Feature Engineering"
   ]
  },
  {
   "cell_type": "markdown",
   "metadata": {},
   "source": [
    "• Five features need to be converted, they include: Product_ID, Gender, Age, City_Category and Stay_In_Current_City_Years.\n",
    "\n",
    "<b>Product_ID:</b> I first LabelEncoding them directly because I think it seems to have no affect on the model and final scores. However, I was wrong and made mistake here. I trid several different ideas to convert it and decide to drop character 'P' and remain the rest numbers which gives me the best performance.\n",
    "\n",
    "<b> Age :</b> When I explore the dataset I do find that different age groups hold different purchasing patterns. For example, 26-35 age groups are with the greatest purchasing power. Instead of one-hot encoding, I tend to keep the order against purchase amount by mapping the age groups onto specific ages. Modeling result shows that this works and outperforms one-hot encoding way.\n",
    "\n",
    "<b> Stay_In_Current_City_Years: </b> The same situation as age variable, in order to avoid affecting the data patteren or distribution, for example, people stayed 4+ years do not buy too many products compared with those stay 1 year. Rethink about it and I feel like this makes sense that people living here for a long time do need less goods so less shop Black Friday. However, people just move here tend to shop more because they demand more. Consequently, I still map the values to specific years.\n",
    "\n",
    "<b>Gender and City_Category: </b> Categorical variables, I used DictVectorizer to label it."
   ]
  },
  {
   "cell_type": "markdown",
   "metadata": {},
   "source": [
    "#### 2.1 Label Encoded : Gender, Age, City_Category , Stay_In_Current_City_Years "
   ]
  },
  {
   "cell_type": "code",
   "execution_count": 365,
   "metadata": {},
   "outputs": [],
   "source": [
    "# Convert Product ID to numerical values by removing P and convert the rest part to int type\n",
    "train[\"Product_ID\"] = train[\"Product_ID\"].str.replace(\"P\", \"\")\n",
    "train[\"Product_ID\"] = train[\"Product_ID\"].astype(str).astype(int)\n",
    "\n",
    "test[\"Product_ID\"] = test[\"Product_ID\"].str.replace(\"P\", \"\")\n",
    "test[\"Product_ID\"] = test[\"Product_ID\"].astype(str).astype(int)\n",
    "\n",
    "gender_dict = {'F':0, 'M':1}\n",
    "age_dict = {'0-17':0, '18-25':1, '26-35':2, '36-45':3, '46-50':4, '51-55':5, '55+':6}\n",
    "city_dict = {'A':0, 'B':1, 'C':2}\n",
    "stay_dict = {'0':0, '1':1, '2':2, '3':3, '4+':4}"
   ]
  },
  {
   "cell_type": "code",
   "execution_count": 366,
   "metadata": {},
   "outputs": [],
   "source": [
    "train[\"Gender\"] = train[\"Gender\"].apply(lambda x: gender_dict[x])\n",
    "test[\"Gender\"] = test[\"Gender\"].apply(lambda x: gender_dict[x])\n",
    "\n",
    "train[\"Age\"] = train[\"Age\"].apply(lambda x: age_dict[x])\n",
    "test[\"Age\"] = test[\"Age\"].apply(lambda x: age_dict[x])\n",
    "\n",
    "train[\"City_Category\"] = train[\"City_Category\"].apply(lambda x: city_dict[x])\n",
    "test[\"City_Category\"] = test[\"City_Category\"].apply(lambda x: city_dict[x])\n",
    "\n",
    "train[\"Stay_In_Current_City_Years\"] = train[\"Stay_In_Current_City_Years\"].apply(lambda x: stay_dict[x])\n",
    "test[\"Stay_In_Current_City_Years\"] = test[\"Stay_In_Current_City_Years\"].apply(lambda x: stay_dict[x])"
   ]
  },
  {
   "cell_type": "code",
   "execution_count": 185,
   "metadata": {},
   "outputs": [
    {
     "name": "stdout",
     "output_type": "stream",
     "text": [
      "<class 'pandas.core.frame.DataFrame'>\n",
      "RangeIndex: 550068 entries, 0 to 550067\n",
      "Data columns (total 10 columns):\n",
      "User_ID                       550068 non-null int64\n",
      "Product_ID                    550068 non-null int64\n",
      "Gender                        550068 non-null int64\n",
      "Age                           550068 non-null int64\n",
      "Occupation                    550068 non-null int64\n",
      "City_Category                 550068 non-null int64\n",
      "Stay_In_Current_City_Years    550068 non-null int64\n",
      "Marital_Status                550068 non-null int64\n",
      "Product_Category_1            550068 non-null int64\n",
      "Purchase                      550068 non-null int64\n",
      "dtypes: int64(10)\n",
      "memory usage: 42.0 MB\n"
     ]
    }
   ],
   "source": [
    "train.info()"
   ]
  },
  {
   "cell_type": "code",
   "execution_count": 186,
   "metadata": {},
   "outputs": [
    {
     "name": "stdout",
     "output_type": "stream",
     "text": [
      "<class 'pandas.core.frame.DataFrame'>\n",
      "RangeIndex: 233599 entries, 0 to 233598\n",
      "Data columns (total 9 columns):\n",
      "User_ID                       233599 non-null int64\n",
      "Product_ID                    233599 non-null object\n",
      "Gender                        233599 non-null int64\n",
      "Age                           233599 non-null int64\n",
      "Occupation                    233599 non-null int64\n",
      "City_Category                 233599 non-null int64\n",
      "Stay_In_Current_City_Years    233599 non-null int64\n",
      "Marital_Status                233599 non-null int64\n",
      "Product_Category_1            233599 non-null int64\n",
      "dtypes: int64(8), object(1)\n",
      "memory usage: 16.0+ MB\n"
     ]
    }
   ],
   "source": [
    "test.info()"
   ]
  },
  {
   "cell_type": "code",
   "execution_count": 196,
   "metadata": {},
   "outputs": [
    {
     "data": {
      "text/html": [
       "<div>\n",
       "<style scoped>\n",
       "    .dataframe tbody tr th:only-of-type {\n",
       "        vertical-align: middle;\n",
       "    }\n",
       "\n",
       "    .dataframe tbody tr th {\n",
       "        vertical-align: top;\n",
       "    }\n",
       "\n",
       "    .dataframe thead th {\n",
       "        text-align: right;\n",
       "    }\n",
       "</style>\n",
       "<table border=\"1\" class=\"dataframe\">\n",
       "  <thead>\n",
       "    <tr style=\"text-align: right;\">\n",
       "      <th></th>\n",
       "      <th>User_ID</th>\n",
       "      <th>Product_ID</th>\n",
       "      <th>Gender</th>\n",
       "      <th>Age</th>\n",
       "      <th>Occupation</th>\n",
       "      <th>City_Category</th>\n",
       "      <th>Stay_In_Current_City_Years</th>\n",
       "      <th>Marital_Status</th>\n",
       "      <th>Product_Category_1</th>\n",
       "      <th>Purchase</th>\n",
       "    </tr>\n",
       "  </thead>\n",
       "  <tbody>\n",
       "    <tr>\n",
       "      <th>0</th>\n",
       "      <td>1000001</td>\n",
       "      <td>69042</td>\n",
       "      <td>0</td>\n",
       "      <td>0</td>\n",
       "      <td>10</td>\n",
       "      <td>0</td>\n",
       "      <td>2</td>\n",
       "      <td>0</td>\n",
       "      <td>3</td>\n",
       "      <td>8370</td>\n",
       "    </tr>\n",
       "    <tr>\n",
       "      <th>1</th>\n",
       "      <td>1000001</td>\n",
       "      <td>248942</td>\n",
       "      <td>0</td>\n",
       "      <td>0</td>\n",
       "      <td>10</td>\n",
       "      <td>0</td>\n",
       "      <td>2</td>\n",
       "      <td>0</td>\n",
       "      <td>1</td>\n",
       "      <td>15200</td>\n",
       "    </tr>\n",
       "    <tr>\n",
       "      <th>2</th>\n",
       "      <td>1000001</td>\n",
       "      <td>87842</td>\n",
       "      <td>0</td>\n",
       "      <td>0</td>\n",
       "      <td>10</td>\n",
       "      <td>0</td>\n",
       "      <td>2</td>\n",
       "      <td>0</td>\n",
       "      <td>12</td>\n",
       "      <td>1422</td>\n",
       "    </tr>\n",
       "    <tr>\n",
       "      <th>3</th>\n",
       "      <td>1000001</td>\n",
       "      <td>85442</td>\n",
       "      <td>0</td>\n",
       "      <td>0</td>\n",
       "      <td>10</td>\n",
       "      <td>0</td>\n",
       "      <td>2</td>\n",
       "      <td>0</td>\n",
       "      <td>12</td>\n",
       "      <td>1057</td>\n",
       "    </tr>\n",
       "    <tr>\n",
       "      <th>4</th>\n",
       "      <td>1000002</td>\n",
       "      <td>285442</td>\n",
       "      <td>1</td>\n",
       "      <td>6</td>\n",
       "      <td>16</td>\n",
       "      <td>2</td>\n",
       "      <td>4</td>\n",
       "      <td>0</td>\n",
       "      <td>8</td>\n",
       "      <td>7969</td>\n",
       "    </tr>\n",
       "  </tbody>\n",
       "</table>\n",
       "</div>"
      ],
      "text/plain": [
       "   User_ID  Product_ID  Gender  Age  Occupation  City_Category  \\\n",
       "0  1000001       69042       0    0          10              0   \n",
       "1  1000001      248942       0    0          10              0   \n",
       "2  1000001       87842       0    0          10              0   \n",
       "3  1000001       85442       0    0          10              0   \n",
       "4  1000002      285442       1    6          16              2   \n",
       "\n",
       "   Stay_In_Current_City_Years  Marital_Status  Product_Category_1  Purchase  \n",
       "0                           2               0                   3      8370  \n",
       "1                           2               0                   1     15200  \n",
       "2                           2               0                  12      1422  \n",
       "3                           2               0                  12      1057  \n",
       "4                           4               0                   8      7969  "
      ]
     },
     "execution_count": 196,
     "metadata": {},
     "output_type": "execute_result"
    }
   ],
   "source": [
    "train.head()"
   ]
  },
  {
   "cell_type": "code",
   "execution_count": 197,
   "metadata": {},
   "outputs": [
    {
     "data": {
      "text/html": [
       "<div>\n",
       "<style scoped>\n",
       "    .dataframe tbody tr th:only-of-type {\n",
       "        vertical-align: middle;\n",
       "    }\n",
       "\n",
       "    .dataframe tbody tr th {\n",
       "        vertical-align: top;\n",
       "    }\n",
       "\n",
       "    .dataframe thead th {\n",
       "        text-align: right;\n",
       "    }\n",
       "</style>\n",
       "<table border=\"1\" class=\"dataframe\">\n",
       "  <thead>\n",
       "    <tr style=\"text-align: right;\">\n",
       "      <th></th>\n",
       "      <th>User_ID</th>\n",
       "      <th>Product_ID</th>\n",
       "      <th>Gender</th>\n",
       "      <th>Age</th>\n",
       "      <th>Occupation</th>\n",
       "      <th>City_Category</th>\n",
       "      <th>Stay_In_Current_City_Years</th>\n",
       "      <th>Marital_Status</th>\n",
       "      <th>Product_Category_1</th>\n",
       "    </tr>\n",
       "  </thead>\n",
       "  <tbody>\n",
       "    <tr>\n",
       "      <th>0</th>\n",
       "      <td>1000004</td>\n",
       "      <td>128942</td>\n",
       "      <td>1</td>\n",
       "      <td>4</td>\n",
       "      <td>7</td>\n",
       "      <td>1</td>\n",
       "      <td>2</td>\n",
       "      <td>1</td>\n",
       "      <td>1</td>\n",
       "    </tr>\n",
       "    <tr>\n",
       "      <th>1</th>\n",
       "      <td>1000009</td>\n",
       "      <td>113442</td>\n",
       "      <td>1</td>\n",
       "      <td>2</td>\n",
       "      <td>17</td>\n",
       "      <td>2</td>\n",
       "      <td>0</td>\n",
       "      <td>0</td>\n",
       "      <td>3</td>\n",
       "    </tr>\n",
       "    <tr>\n",
       "      <th>2</th>\n",
       "      <td>1000010</td>\n",
       "      <td>288442</td>\n",
       "      <td>0</td>\n",
       "      <td>3</td>\n",
       "      <td>1</td>\n",
       "      <td>1</td>\n",
       "      <td>4</td>\n",
       "      <td>1</td>\n",
       "      <td>5</td>\n",
       "    </tr>\n",
       "    <tr>\n",
       "      <th>3</th>\n",
       "      <td>1000010</td>\n",
       "      <td>145342</td>\n",
       "      <td>0</td>\n",
       "      <td>3</td>\n",
       "      <td>1</td>\n",
       "      <td>1</td>\n",
       "      <td>4</td>\n",
       "      <td>1</td>\n",
       "      <td>4</td>\n",
       "    </tr>\n",
       "    <tr>\n",
       "      <th>4</th>\n",
       "      <td>1000011</td>\n",
       "      <td>53842</td>\n",
       "      <td>0</td>\n",
       "      <td>2</td>\n",
       "      <td>1</td>\n",
       "      <td>2</td>\n",
       "      <td>1</td>\n",
       "      <td>0</td>\n",
       "      <td>4</td>\n",
       "    </tr>\n",
       "  </tbody>\n",
       "</table>\n",
       "</div>"
      ],
      "text/plain": [
       "   User_ID  Product_ID  Gender  Age  Occupation  City_Category  \\\n",
       "0  1000004      128942       1    4           7              1   \n",
       "1  1000009      113442       1    2          17              2   \n",
       "2  1000010      288442       0    3           1              1   \n",
       "3  1000010      145342       0    3           1              1   \n",
       "4  1000011       53842       0    2           1              2   \n",
       "\n",
       "   Stay_In_Current_City_Years  Marital_Status  Product_Category_1  \n",
       "0                           2               1                   1  \n",
       "1                           0               0                   3  \n",
       "2                           4               1                   5  \n",
       "3                           4               1                   4  \n",
       "4                           1               0                   4  "
      ]
     },
     "execution_count": 197,
     "metadata": {},
     "output_type": "execute_result"
    }
   ],
   "source": [
    "test.head()"
   ]
  },
  {
   "cell_type": "code",
   "execution_count": 198,
   "metadata": {},
   "outputs": [
    {
     "data": {
      "image/png": "[encoded data removed]",
      "text/plain": [
       "<Figure size 1224x576 with 2 Axes>"
      ]
     },
     "metadata": {
      "needs_background": "light"
     },
     "output_type": "display_data"
    }
   ],
   "source": [
    "corr = train.corr()\n",
    "mask = np.zeros_like(corr, dtype=np.bool)\n",
    "mask[np.triu_indices_from(mask)] = True\n",
    "plt.figure(figsize=(17, 8))\n",
    "ax = sns.heatmap(corr, mask=mask, square = True, vmax = 0.4,annot=True,cmap=\"YlGnBu\")\n",
    "\n"
   ]
  },
  {
   "cell_type": "markdown",
   "metadata": {},
   "source": [
    "It is clear nothing is highly correlated with the Purchase variable. What I could observe is:\n",
    "\n",
    "Product_Category_1 has a relative strong negative correlation with Purchase.\n",
    "Since Product_Category_1 variable shows some relation with purchase amount, I think if I have time I may convert it to dummy variable and split each category as a new feature and test the results."
   ]
  },
  {
   "cell_type": "markdown",
   "metadata": {},
   "source": [
    "#### 2.2. Function to create count features¶"
   ]
  },
  {
   "cell_type": "code",
   "execution_count": 199,
   "metadata": {},
   "outputs": [],
   "source": [
    "def getCountVar(compute_df, count_df, var_name):\n",
    "    grouped_df = count_df.groupby(var_name)\n",
    "    count_dict = {}\n",
    "    for name, group in grouped_df: # eg. name is group_name like F, M ; group is data in F, data in M\n",
    "         count_dict[name] = group.shape[0]\n",
    "\n",
    "    count_list = []\n",
    "    for index, row in compute_df.iterrows(): ## read each row in dataframe\n",
    "        name = row[var_name]  # categroy name , eg. F, M which is the key \n",
    "        count_list.append(count_dict.get(name, 0)) # .get(name,0):0 if the key is not found and value is specified.\n",
    "    return count_list"
   ]
  },
  {
   "cell_type": "code",
   "execution_count": 367,
   "metadata": {},
   "outputs": [
    {
     "name": "stdout",
     "output_type": "stream",
     "text": [
      "Getting count features..\n",
      "Age [ 15102  21504  38501  45701  99660 110013 219587]\n",
      "Occupation [ 1546  6291  6622  7728  8461 11586 12165 12177 12930 17650 20355 25371\n",
      " 26588 27309 31179 33562 40043 47426 59133 69638 72308]\n",
      "Cat 1  [   410    578   1523   3125   3721   3947   5125   5549   6290   9828\n",
      "  11753  20213  20466  23864  24287 113925 140378 150933]\n",
      "User id  [ 6  7  8  9 10 11 12 13 14 15]\n",
      "Product id  [0 1 2 3 4 5 6 7 8 9]\n"
     ]
    }
   ],
   "source": [
    "print (\"Getting count features..\")\n",
    "train[\"Age_Count\"] = getCountVar(train, train, \"Age\")\n",
    "test[\"Age_Count\"] = getCountVar(test, train, \"Age\")\n",
    "print (\"Age\", np.unique(test[\"Age_Count\"]))\n",
    "\n",
    "train[\"Occupation_Count\"] = getCountVar(train, train, \"Occupation\")\n",
    "test[\"Occupation_Count\"] = getCountVar(test, train, \"Occupation\")\n",
    "print (\"Occupation\", np.unique(test[\"Occupation_Count\"]))\n",
    "\n",
    "train[\"Product_Category_1_Count\"] = getCountVar(train, train, \"Product_Category_1\")\n",
    "test[\"Product_Category_1_Count\"] = getCountVar(test, train, \"Product_Category_1\")\n",
    "print (\"Cat 1 \",np.unique(test[\"Product_Category_1_Count\"]))\n",
    "\n",
    "train[\"User_ID_Count\"] = getCountVar(train, train, \"User_ID\")\n",
    "test[\"User_ID_Count\"] = getCountVar(test, train, \"User_ID\")\n",
    "print (\"User id \", np.unique(test[\"User_ID_Count\"])[:10])\n",
    "\n",
    "train[\"Product_ID_Count\"] = getCountVar(train, train, \"Product_ID\")\n",
    "test[\"Product_ID_Count\"] = getCountVar(test, train, \"Product_ID\")\n",
    "print (\"Product id \", np.unique(test[\"Product_ID_Count\"])[:10])\n"
   ]
  },
  {
   "cell_type": "markdown",
   "metadata": {},
   "source": [
    "At this time, I decide to LabelEncoder \"User_ID\" and \"Product_ID\""
   ]
  },
  {
   "cell_type": "code",
   "execution_count": 381,
   "metadata": {},
   "outputs": [],
   "source": [
    "cat_columns_list = [\"User_ID\", \"Product_ID\"]\n",
    "for var in cat_columns_list:\n",
    "    lb = LabelEncoder()\n",
    "    full_var_data = pd.concat((train[var],test[var]),axis=0)\n",
    "    temp = lb.fit_transform(full_var_data)\n",
    "    train[var] = lb.transform(train[var] )\n",
    "    test[var] = lb.transform(test[var] )"
   ]
  },
  {
   "cell_type": "code",
   "execution_count": 382,
   "metadata": {},
   "outputs": [
    {
     "data": {
      "text/html": [
       "<div>\n",
       "<style scoped>\n",
       "    .dataframe tbody tr th:only-of-type {\n",
       "        vertical-align: middle;\n",
       "    }\n",
       "\n",
       "    .dataframe tbody tr th {\n",
       "        vertical-align: top;\n",
       "    }\n",
       "\n",
       "    .dataframe thead th {\n",
       "        text-align: right;\n",
       "    }\n",
       "</style>\n",
       "<table border=\"1\" class=\"dataframe\">\n",
       "  <thead>\n",
       "    <tr style=\"text-align: right;\">\n",
       "      <th></th>\n",
       "      <th>User_ID</th>\n",
       "      <th>Product_ID</th>\n",
       "      <th>Gender</th>\n",
       "      <th>Age</th>\n",
       "      <th>Occupation</th>\n",
       "      <th>City_Category</th>\n",
       "      <th>Stay_In_Current_City_Years</th>\n",
       "      <th>Marital_Status</th>\n",
       "      <th>Product_Category_1</th>\n",
       "      <th>Purchase</th>\n",
       "      <th>Age_Count</th>\n",
       "      <th>Occupation_Count</th>\n",
       "      <th>Product_Category_1_Count</th>\n",
       "      <th>User_ID_Count</th>\n",
       "      <th>Product_ID_Count</th>\n",
       "    </tr>\n",
       "  </thead>\n",
       "  <tbody>\n",
       "    <tr>\n",
       "      <th>0</th>\n",
       "      <td>0</td>\n",
       "      <td>686</td>\n",
       "      <td>0</td>\n",
       "      <td>0</td>\n",
       "      <td>10</td>\n",
       "      <td>0</td>\n",
       "      <td>2</td>\n",
       "      <td>0</td>\n",
       "      <td>3</td>\n",
       "      <td>8370</td>\n",
       "      <td>15102</td>\n",
       "      <td>12930</td>\n",
       "      <td>20213</td>\n",
       "      <td>35</td>\n",
       "      <td>227</td>\n",
       "    </tr>\n",
       "    <tr>\n",
       "      <th>1</th>\n",
       "      <td>0</td>\n",
       "      <td>2469</td>\n",
       "      <td>0</td>\n",
       "      <td>0</td>\n",
       "      <td>10</td>\n",
       "      <td>0</td>\n",
       "      <td>2</td>\n",
       "      <td>0</td>\n",
       "      <td>1</td>\n",
       "      <td>15200</td>\n",
       "      <td>15102</td>\n",
       "      <td>12930</td>\n",
       "      <td>140378</td>\n",
       "      <td>35</td>\n",
       "      <td>581</td>\n",
       "    </tr>\n",
       "    <tr>\n",
       "      <th>2</th>\n",
       "      <td>0</td>\n",
       "      <td>870</td>\n",
       "      <td>0</td>\n",
       "      <td>0</td>\n",
       "      <td>10</td>\n",
       "      <td>0</td>\n",
       "      <td>2</td>\n",
       "      <td>0</td>\n",
       "      <td>12</td>\n",
       "      <td>1422</td>\n",
       "      <td>15102</td>\n",
       "      <td>12930</td>\n",
       "      <td>3947</td>\n",
       "      <td>35</td>\n",
       "      <td>102</td>\n",
       "    </tr>\n",
       "    <tr>\n",
       "      <th>3</th>\n",
       "      <td>0</td>\n",
       "      <td>846</td>\n",
       "      <td>0</td>\n",
       "      <td>0</td>\n",
       "      <td>10</td>\n",
       "      <td>0</td>\n",
       "      <td>2</td>\n",
       "      <td>0</td>\n",
       "      <td>12</td>\n",
       "      <td>1057</td>\n",
       "      <td>15102</td>\n",
       "      <td>12930</td>\n",
       "      <td>3947</td>\n",
       "      <td>35</td>\n",
       "      <td>341</td>\n",
       "    </tr>\n",
       "    <tr>\n",
       "      <th>4</th>\n",
       "      <td>1</td>\n",
       "      <td>2832</td>\n",
       "      <td>1</td>\n",
       "      <td>6</td>\n",
       "      <td>16</td>\n",
       "      <td>2</td>\n",
       "      <td>4</td>\n",
       "      <td>0</td>\n",
       "      <td>8</td>\n",
       "      <td>7969</td>\n",
       "      <td>21504</td>\n",
       "      <td>25371</td>\n",
       "      <td>113925</td>\n",
       "      <td>77</td>\n",
       "      <td>203</td>\n",
       "    </tr>\n",
       "  </tbody>\n",
       "</table>\n",
       "</div>"
      ],
      "text/plain": [
       "   User_ID  Product_ID  Gender  Age  Occupation  City_Category  \\\n",
       "0        0         686       0    0          10              0   \n",
       "1        0        2469       0    0          10              0   \n",
       "2        0         870       0    0          10              0   \n",
       "3        0         846       0    0          10              0   \n",
       "4        1        2832       1    6          16              2   \n",
       "\n",
       "   Stay_In_Current_City_Years  Marital_Status  Product_Category_1  Purchase  \\\n",
       "0                           2               0                   3      8370   \n",
       "1                           2               0                   1     15200   \n",
       "2                           2               0                  12      1422   \n",
       "3                           2               0                  12      1057   \n",
       "4                           4               0                   8      7969   \n",
       "\n",
       "   Age_Count  Occupation_Count  Product_Category_1_Count  User_ID_Count  \\\n",
       "0      15102             12930                     20213             35   \n",
       "1      15102             12930                    140378             35   \n",
       "2      15102             12930                      3947             35   \n",
       "3      15102             12930                      3947             35   \n",
       "4      21504             25371                    113925             77   \n",
       "\n",
       "   Product_ID_Count  \n",
       "0               227  \n",
       "1               581  \n",
       "2               102  \n",
       "3               341  \n",
       "4               203  "
      ]
     },
     "execution_count": 382,
     "metadata": {},
     "output_type": "execute_result"
    }
   ],
   "source": [
    "train.head()"
   ]
  },
  {
   "cell_type": "code",
   "execution_count": 383,
   "metadata": {},
   "outputs": [
    {
     "data": {
      "text/html": [
       "<div>\n",
       "<style scoped>\n",
       "    .dataframe tbody tr th:only-of-type {\n",
       "        vertical-align: middle;\n",
       "    }\n",
       "\n",
       "    .dataframe tbody tr th {\n",
       "        vertical-align: top;\n",
       "    }\n",
       "\n",
       "    .dataframe thead th {\n",
       "        text-align: right;\n",
       "    }\n",
       "</style>\n",
       "<table border=\"1\" class=\"dataframe\">\n",
       "  <thead>\n",
       "    <tr style=\"text-align: right;\">\n",
       "      <th></th>\n",
       "      <th>User_ID</th>\n",
       "      <th>Product_ID</th>\n",
       "      <th>Gender</th>\n",
       "      <th>Age</th>\n",
       "      <th>Occupation</th>\n",
       "      <th>City_Category</th>\n",
       "      <th>Stay_In_Current_City_Years</th>\n",
       "      <th>Marital_Status</th>\n",
       "      <th>Product_Category_1</th>\n",
       "      <th>Age_Count</th>\n",
       "      <th>Occupation_Count</th>\n",
       "      <th>Product_Category_1_Count</th>\n",
       "      <th>User_ID_Count</th>\n",
       "      <th>Product_ID_Count</th>\n",
       "    </tr>\n",
       "  </thead>\n",
       "  <tbody>\n",
       "    <tr>\n",
       "      <th>0</th>\n",
       "      <td>3</td>\n",
       "      <td>1279</td>\n",
       "      <td>1</td>\n",
       "      <td>4</td>\n",
       "      <td>7</td>\n",
       "      <td>1</td>\n",
       "      <td>2</td>\n",
       "      <td>1</td>\n",
       "      <td>1</td>\n",
       "      <td>45701</td>\n",
       "      <td>59133</td>\n",
       "      <td>140378</td>\n",
       "      <td>14</td>\n",
       "      <td>936</td>\n",
       "    </tr>\n",
       "    <tr>\n",
       "      <th>1</th>\n",
       "      <td>8</td>\n",
       "      <td>1126</td>\n",
       "      <td>1</td>\n",
       "      <td>2</td>\n",
       "      <td>17</td>\n",
       "      <td>2</td>\n",
       "      <td>0</td>\n",
       "      <td>0</td>\n",
       "      <td>3</td>\n",
       "      <td>219587</td>\n",
       "      <td>40043</td>\n",
       "      <td>20213</td>\n",
       "      <td>58</td>\n",
       "      <td>254</td>\n",
       "    </tr>\n",
       "    <tr>\n",
       "      <th>2</th>\n",
       "      <td>9</td>\n",
       "      <td>2862</td>\n",
       "      <td>0</td>\n",
       "      <td>3</td>\n",
       "      <td>1</td>\n",
       "      <td>1</td>\n",
       "      <td>4</td>\n",
       "      <td>1</td>\n",
       "      <td>5</td>\n",
       "      <td>110013</td>\n",
       "      <td>47426</td>\n",
       "      <td>150933</td>\n",
       "      <td>223</td>\n",
       "      <td>142</td>\n",
       "    </tr>\n",
       "    <tr>\n",
       "      <th>3</th>\n",
       "      <td>9</td>\n",
       "      <td>1442</td>\n",
       "      <td>0</td>\n",
       "      <td>3</td>\n",
       "      <td>1</td>\n",
       "      <td>1</td>\n",
       "      <td>4</td>\n",
       "      <td>1</td>\n",
       "      <td>4</td>\n",
       "      <td>110013</td>\n",
       "      <td>47426</td>\n",
       "      <td>11753</td>\n",
       "      <td>223</td>\n",
       "      <td>15</td>\n",
       "    </tr>\n",
       "    <tr>\n",
       "      <th>4</th>\n",
       "      <td>10</td>\n",
       "      <td>537</td>\n",
       "      <td>0</td>\n",
       "      <td>2</td>\n",
       "      <td>1</td>\n",
       "      <td>2</td>\n",
       "      <td>1</td>\n",
       "      <td>0</td>\n",
       "      <td>4</td>\n",
       "      <td>219587</td>\n",
       "      <td>47426</td>\n",
       "      <td>11753</td>\n",
       "      <td>70</td>\n",
       "      <td>567</td>\n",
       "    </tr>\n",
       "  </tbody>\n",
       "</table>\n",
       "</div>"
      ],
      "text/plain": [
       "   User_ID  Product_ID  Gender  Age  Occupation  City_Category  \\\n",
       "0        3        1279       1    4           7              1   \n",
       "1        8        1126       1    2          17              2   \n",
       "2        9        2862       0    3           1              1   \n",
       "3        9        1442       0    3           1              1   \n",
       "4       10         537       0    2           1              2   \n",
       "\n",
       "   Stay_In_Current_City_Years  Marital_Status  Product_Category_1  Age_Count  \\\n",
       "0                           2               1                   1      45701   \n",
       "1                           0               0                   3     219587   \n",
       "2                           4               1                   5     110013   \n",
       "3                           4               1                   4     110013   \n",
       "4                           1               0                   4     219587   \n",
       "\n",
       "   Occupation_Count  Product_Category_1_Count  User_ID_Count  Product_ID_Count  \n",
       "0             59133                    140378             14               936  \n",
       "1             40043                     20213             58               254  \n",
       "2             47426                    150933            223               142  \n",
       "3             47426                     11753            223                15  \n",
       "4             47426                     11753             70               567  "
      ]
     },
     "execution_count": 383,
     "metadata": {},
     "output_type": "execute_result"
    }
   ],
   "source": [
    "test.head()"
   ]
  },
  {
   "cell_type": "code",
   "execution_count": 370,
   "metadata": {},
   "outputs": [],
   "source": [
    "train.to_csv(\"train_mod.csv\", index=False)\n",
    "test.to_csv(\"test_mod.csv\", index=False)"
   ]
  },
  {
   "cell_type": "markdown",
   "metadata": {},
   "source": [
    "### 3.Training vs Validation vs Test set"
   ]
  },
  {
   "cell_type": "code",
   "execution_count": 384,
   "metadata": {},
   "outputs": [],
   "source": [
    "#Divide into Test and Train again\n",
    "Train=train.loc[train['Purchase'].isnull()==False]\n",
    "\n",
    "# Split into X_train as training set and X_test as validation set\n",
    "X = Train.drop(['Purchase'], axis=1)\n",
    "y = Train['Purchase']\n",
    "X_train,X_test,y_train,y_test = train_test_split(X,y,random_state=100,test_size=0.3)"
   ]
  },
  {
   "cell_type": "code",
   "execution_count": 385,
   "metadata": {},
   "outputs": [
    {
     "name": "stdout",
     "output_type": "stream",
     "text": [
      "Test set size: (233599, 14)\n",
      "Train set size: (385047, 14)\n",
      "Validation set size: (165021, 14)\n"
     ]
    }
   ],
   "source": [
    "print('Test set size:',test.shape)   \n",
    "print('Train set size:',X_train.shape)    \n",
    "print('Validation set size:',X_test.shape)   "
   ]
  },
  {
   "cell_type": "markdown",
   "metadata": {},
   "source": [
    "### 4. Evaluation metric\n",
    "The contest utilizes the root mean squared error(RMSE) to evaluate the final predictions. RMSE is very common and is a suitable general-purpose error metric. Compared to the Mean Absolute Error, RMSE punishes large errors:\n",
    "\n"
   ]
  },
  {
   "cell_type": "markdown",
   "metadata": {},
   "source": [
    " \n",
    "RMSE = $\\displaystyle\\sqrt{\\frac{1}{n}\\sum_{t=1}^{n}(y_i-\\hat{y})^2}$ \n",
    "\n",
    "where yi is the ground truth and y^ is the prediction for the corresponding test instance.\n",
    " "
   ]
  },
  {
   "cell_type": "markdown",
   "metadata": {},
   "source": [
    "### 5. Models \n",
    "#### 5.1. Short_List promising models"
   ]
  },
  {
   "cell_type": "markdown",
   "metadata": {},
   "source": [
    "For regression problem, we have a bunch of Machine Learning algorithms as candidates. I plan to train many quick and dirty models from different categories like linear model, SVM and tree model, etc using standard parameters and compare their performance. For each model, use N-fold cross-validation and compute the mean and standard deviation of the performance measure on the N folds.\n",
    "\n",
    "In order to train many different models in a reasonable time, I will sample smaller training sets to speed up the process here."
   ]
  },
  {
   "cell_type": "code",
   "execution_count": 386,
   "metadata": {},
   "outputs": [],
   "source": [
    "#Sample smaller training sets\n",
    "Train_sample = Train.sample(n=round(Train.shape[0]*0.1),random_state=10)\n",
    "X = Train_sample.drop(['Purchase'], axis=1)\n",
    "y = Train_sample['Purchase']\n",
    "\n",
    "# 5-fold Cross validation function\n",
    "n_folds = 5\n",
    "def rmsle_cv(model):\n",
    "    kf = KFold(n_folds, shuffle=True, random_state=42).get_n_splits(X.values)\n",
    "    rmse= np.sqrt(-cross_val_score(model, X.values, y, scoring=\"neg_mean_squared_error\", cv = kf))\n",
    "    return(rmse)"
   ]
  },
  {
   "cell_type": "code",
   "execution_count": 387,
   "metadata": {},
   "outputs": [
    {
     "data": {
      "text/plain": [
       "(55007, 15)"
      ]
     },
     "execution_count": 387,
     "metadata": {},
     "output_type": "execute_result"
    }
   ],
   "source": [
    "Train_sample.shape   "
   ]
  },
  {
   "cell_type": "markdown",
   "metadata": {},
   "source": [
    "Test some basic quick and dirty models :"
   ]
  },
  {
   "cell_type": "code",
   "execution_count": 388,
   "metadata": {},
   "outputs": [],
   "source": [
    "lr_reg = LinearRegression()\n",
    "lasso = Lasso(random_state=7)\n",
    "tree = DecisionTreeRegressor(random_state=7)\n",
    "rf = RandomForestRegressor()"
   ]
  },
  {
   "cell_type": "markdown",
   "metadata": {},
   "source": [
    "(1) Linear Regression"
   ]
  },
  {
   "cell_type": "code",
   "execution_count": 389,
   "metadata": {},
   "outputs": [
    {
     "name": "stdout",
     "output_type": "stream",
     "text": [
      "\n",
      "Linear Regression score: 4378.6796 (16.6143)\n",
      "\n"
     ]
    }
   ],
   "source": [
    "score = rmsle_cv(lr_reg)\n",
    "print(\"\\nLinear Regression score: {:.4f} ({:.4f})\\n\".format(score.mean(), score.std()))"
   ]
  },
  {
   "cell_type": "markdown",
   "metadata": {},
   "source": [
    "(2) Lasso "
   ]
  },
  {
   "cell_type": "code",
   "execution_count": 390,
   "metadata": {},
   "outputs": [
    {
     "name": "stdout",
     "output_type": "stream",
     "text": [
      "\n",
      "Lasso score: 4378.6620 (16.5949)\n",
      "\n"
     ]
    }
   ],
   "source": [
    "score = rmsle_cv(lasso)\n",
    "print(\"\\nLasso score: {:.4f} ({:.4f})\\n\".format(score.mean(), score.std()))"
   ]
  },
  {
   "cell_type": "markdown",
   "metadata": {},
   "source": [
    "(3) Random Forest "
   ]
  },
  {
   "cell_type": "code",
   "execution_count": 391,
   "metadata": {},
   "outputs": [
    {
     "name": "stdout",
     "output_type": "stream",
     "text": [
      "\n",
      "Random Forest: 2904.4199 (30.4716)\n",
      "\n"
     ]
    }
   ],
   "source": [
    "import warnings\n",
    "warnings.filterwarnings('ignore')\n",
    "score = rmsle_cv(rf)\n",
    "print(\"\\nRandom Forest: {:.4f} ({:.4f})\\n\".format(score.mean(), score.std()))"
   ]
  },
  {
   "cell_type": "markdown",
   "metadata": {},
   "source": [
    "(4) Xgboost"
   ]
  },
  {
   "cell_type": "code",
   "execution_count": 396,
   "metadata": {},
   "outputs": [],
   "source": [
    "dX = xgb.DMatrix(data=X,label=y)"
   ]
  },
  {
   "cell_type": "code",
   "execution_count": null,
   "metadata": {},
   "outputs": [],
   "source": [
    "# 5-fold Cross validation function 2\n",
    "n_folds = 5\n",
    " \n",
    "kf = KFold(n_folds, shuffle=True, random_state=42).get_n_splits(X.values)\n",
    "rmse= np.sqrt(-cross_val_score(model, X.values, y, scoring=\"neg_mean_squared_error\", cv = kf))\n"
   ]
  },
  {
   "cell_type": "markdown",
   "metadata": {},
   "source": [
    "Since Support Vector Regression takes too much time, I do not try it here. It looks tree model is very promising. So I plan to use tree based model to tackle the problem. I am planning to try bagging with base estimator decision tree, random forest, gradient boost and extreme gradient boost methods(xgb). It's not only because they are able to capture the patterns in the dataset but also some of them provide tools to evaluate the importance of features, which might give us insight for feature engineering."
   ]
  },
  {
   "cell_type": "markdown",
   "metadata": {},
   "source": [
    "#### 5.1.1  Fine-Tune the System\n",
    "\n",
    "As we all know, finding the optimal parameters is ambitious and time consuming. I started off randomly searching parameters to narrow down the range then moved to grid search to guarantee get more precise result which could be implemented by GridSearchCV and RandomizedSearchCV sklearn functions. It is wise to use as much data as possible for this step, but fine tuning models really takes long time, considering the convenience of running this kernel, I will use random forest as an example."
   ]
  },
  {
   "cell_type": "markdown",
   "metadata": {},
   "source": [
    "#### - Random Forest"
   ]
  },
  {
   "cell_type": "markdown",
   "metadata": {},
   "source": [
    "Searching parameters randomly helps us narrow down optimal range."
   ]
  },
  {
   "cell_type": "code",
   "execution_count": 214,
   "metadata": {},
   "outputs": [
    {
     "name": "stdout",
     "output_type": "stream",
     "text": [
      "Random search results:\n",
      "2778.049361793556 {'n_estimators': 250, 'min_samples_split': 4, 'min_samples_leaf': 15, 'max_depth': 35}\n",
      "2777.5779029183395 {'n_estimators': 450, 'min_samples_split': 4, 'min_samples_leaf': 15, 'max_depth': 25}\n",
      "2777.5784663556415 {'n_estimators': 450, 'min_samples_split': 4, 'min_samples_leaf': 15, 'max_depth': 35}\n",
      "2781.5772623958214 {'n_estimators': 350, 'min_samples_split': 8, 'min_samples_leaf': 20, 'max_depth': 25}\n",
      "2777.825556371647 {'n_estimators': 350, 'min_samples_split': 4, 'min_samples_leaf': 15, 'max_depth': 35}\n",
      "2774.366687684554 {'n_estimators': 450, 'min_samples_split': 4, 'min_samples_leaf': 10, 'max_depth': 35}\n",
      "2777.5779029183395 {'n_estimators': 450, 'min_samples_split': 8, 'min_samples_leaf': 15, 'max_depth': 25}\n",
      "2777.825556371647 {'n_estimators': 350, 'min_samples_split': 8, 'min_samples_leaf': 15, 'max_depth': 35}\n",
      "2781.576764946098 {'n_estimators': 350, 'min_samples_split': 8, 'min_samples_leaf': 20, 'max_depth': 35}\n",
      "2781.5772623958214 {'n_estimators': 350, 'min_samples_split': 4, 'min_samples_leaf': 20, 'max_depth': 25}\n"
     ]
    }
   ],
   "source": [
    "#Random Search\n",
    "rf = RandomForestRegressor(n_jobs=-1,random_state=10)\n",
    "\n",
    "param_random = {'n_estimators':range(250,500,100),\n",
    "               'max_depth':range(25,45,10),\n",
    "               'min_samples_leaf':range(10,25,5),\n",
    "               'min_samples_split':range(4,10,4)}\n",
    "\n",
    "# random search + cross validation\n",
    "random_rf = RandomizedSearchCV(rf,param_random,cv = 3,scoring='neg_mean_squared_error',n_jobs = -1)\n",
    "# train model in train set\n",
    "random_rf.fit(X.values,y.values)\n",
    "# return search results for each case\n",
    "result_rf = random_rf.cv_results_\n",
    "print('Random search results:')\n",
    "for mean_score, params in zip(result_rf[\"mean_test_score\"], result_rf[\"params\"]):\n",
    "    print(np.sqrt(-mean_score), params)"
   ]
  },
  {
   "cell_type": "code",
   "execution_count": 215,
   "metadata": {},
   "outputs": [
    {
     "name": "stdout",
     "output_type": "stream",
     "text": [
      "Best parameters: {'n_estimators': 450, 'min_samples_split': 4, 'min_samples_leaf': 10, 'max_depth': 35}\n",
      "Random Forest with best parameters now, RMSE on validation set: 2699.1707116550288\n"
     ]
    }
   ],
   "source": [
    "# get the best estimator \n",
    "best_rdm_rf = random_rf.best_estimator_\n",
    "# prediction on validation set\n",
    "rf_predictions = best_rdm_rf.predict(X_test.values)\n",
    "mse = mean_squared_error(y_test, rf_predictions)\n",
    "rmse = np.sqrt(mse)\n",
    "print('Best parameters:',random_rf.best_params_)\n",
    "print('Random Forest with best parameters now, RMSE on validation set:',rmse)"
   ]
  },
  {
   "cell_type": "code",
   "execution_count": null,
   "metadata": {},
   "outputs": [],
   "source": [
    "## Grid Search\n",
    "rf = RandomForestRegressor(n_jobs=-1,random_state=10)\n",
    "\n",
    "param_grid = [ { 'n_estimators': [440,460], \n",
    "                'max_depth':[24,26,27],\n",
    "                'min_samples_leaf':[8,12], \n",
    "                'min_samples_split':[3,5]}]\n",
    "\n",
    "## Grid search + cross validation\n",
    "grid_search_rf = GridSearchCV(rf, param_grid, cv=5,scoring='neg_mean_squared_error',n_jobs = -1)\n",
    "## Train model in smaller sample set to save running time here\n",
    "grid_search_rf.fit(X.values, y.values)\n",
    "## Return search values for each case\n",
    "cvres_rf = grid_search_rf.cv_results_\n",
    "print('Grid search results:')\n",
    "for mean_score, params in zip(cvres_rf[\"mean_test_score\"], cvres_rf[\"params\"]): \n",
    "    print(np.sqrt(-mean_score), params)\n",
    "    "
   ]
  },
  {
   "cell_type": "markdown",
   "metadata": {},
   "source": [
    "I will use the same idea to tweak the parameters for the rest methods and directly give my optimal parameters for the rest models after extensive tuning."
   ]
  },
  {
   "cell_type": "markdown",
   "metadata": {},
   "source": [
    "### 6. Modeling \n",
    "\n",
    "Since we knew tree-based model are better to make predictions, I decided to choose the Xgboost model. I will add some features and create two more different Xgboost to check whether accuracy was improved."
   ]
  },
  {
   "cell_type": "markdown",
   "metadata": {},
   "source": [
    "#### 6.1 Xgboost Model 1"
   ]
  },
  {
   "cell_type": "code",
   "execution_count": 407,
   "metadata": {},
   "outputs": [],
   "source": [
    "dtrain = xgb.DMatrix(data=X,label=y)"
   ]
  },
  {
   "cell_type": "code",
   "execution_count": 423,
   "metadata": {},
   "outputs": [],
   "source": [
    "dtest=xgb.DMatrix(data=test)"
   ]
  },
  {
   "cell_type": "markdown",
   "metadata": {},
   "source": [
    "Check Cross Validation:"
   ]
  },
  {
   "cell_type": "code",
   "execution_count": 408,
   "metadata": {},
   "outputs": [],
   "source": [
    "param = {'objective': 'reg:linear','eta': 0.05,\"min_child_weight\":10,'subsample': 0.8, 'colsample_bytree': 0.7, \n",
    "         'silent': 1,'max_depth': 10, 'metrics': 'rmse','as_pandas': True, 'seed': 0}\n",
    "num_round = 750\n",
    "##Cross-Valid\n",
    "model1_cv=xgb.cv(param, dtrain, num_round, nfold=4, seed=2244) # test-rmse-mean : lowest  2699"
   ]
  },
  {
   "cell_type": "code",
   "execution_count": 416,
   "metadata": {},
   "outputs": [
    {
     "data": {
      "text/html": [
       "<div>\n",
       "<style scoped>\n",
       "    .dataframe tbody tr th:only-of-type {\n",
       "        vertical-align: middle;\n",
       "    }\n",
       "\n",
       "    .dataframe tbody tr th {\n",
       "        vertical-align: top;\n",
       "    }\n",
       "\n",
       "    .dataframe thead th {\n",
       "        text-align: right;\n",
       "    }\n",
       "</style>\n",
       "<table border=\"1\" class=\"dataframe\">\n",
       "  <thead>\n",
       "    <tr style=\"text-align: right;\">\n",
       "      <th></th>\n",
       "      <th>train-rmse-mean</th>\n",
       "      <th>train-rmse-std</th>\n",
       "      <th>test-rmse-mean</th>\n",
       "      <th>test-rmse-std</th>\n",
       "    </tr>\n",
       "  </thead>\n",
       "  <tbody>\n",
       "    <tr>\n",
       "      <th>0</th>\n",
       "      <td>10080.113281</td>\n",
       "      <td>7.703208</td>\n",
       "      <td>10080.662841</td>\n",
       "      <td>24.305375</td>\n",
       "    </tr>\n",
       "    <tr>\n",
       "      <th>1</th>\n",
       "      <td>9618.011475</td>\n",
       "      <td>7.639614</td>\n",
       "      <td>9619.378662</td>\n",
       "      <td>23.252749</td>\n",
       "    </tr>\n",
       "    <tr>\n",
       "      <th>2</th>\n",
       "      <td>9191.440429</td>\n",
       "      <td>10.745710</td>\n",
       "      <td>9194.087158</td>\n",
       "      <td>34.790349</td>\n",
       "    </tr>\n",
       "    <tr>\n",
       "      <th>3</th>\n",
       "      <td>8778.282471</td>\n",
       "      <td>11.356666</td>\n",
       "      <td>8782.103027</td>\n",
       "      <td>34.967497</td>\n",
       "    </tr>\n",
       "    <tr>\n",
       "      <th>4</th>\n",
       "      <td>8408.845459</td>\n",
       "      <td>23.420259</td>\n",
       "      <td>8413.535644</td>\n",
       "      <td>22.834520</td>\n",
       "    </tr>\n",
       "  </tbody>\n",
       "</table>\n",
       "</div>"
      ],
      "text/plain": [
       "   train-rmse-mean  train-rmse-std  test-rmse-mean  test-rmse-std\n",
       "0     10080.113281        7.703208    10080.662841      24.305375\n",
       "1      9618.011475        7.639614     9619.378662      23.252749\n",
       "2      9191.440429       10.745710     9194.087158      34.790349\n",
       "3      8778.282471       11.356666     8782.103027      34.967497\n",
       "4      8408.845459       23.420259     8413.535644      22.834520"
      ]
     },
     "execution_count": 416,
     "metadata": {},
     "output_type": "execute_result"
    }
   ],
   "source": [
    "model1_cv.head()"
   ]
  },
  {
   "cell_type": "code",
   "execution_count": 417,
   "metadata": {},
   "outputs": [
    {
     "name": "stdout",
     "output_type": "stream",
     "text": [
      "2665.65216075\n"
     ]
    }
   ],
   "source": [
    "print((model1_cv[\"test-rmse-mean\"]).min())# test-rmse-mean: 2665.65216075"
   ]
  },
  {
   "cell_type": "markdown",
   "metadata": {},
   "source": [
    "#### Xgboost_Predict 1:"
   ]
  },
  {
   "cell_type": "code",
   "execution_count": 418,
   "metadata": {},
   "outputs": [],
   "source": [
    "xg_reg = xgb.XGBRegressor(objective ='reg:linear', colsample_bytree = 0.7, learning_rate = 0.1,\n",
    "                max_depth = 10, alpha = 10, n_estimators = 10)"
   ]
  },
  {
   "cell_type": "code",
   "execution_count": 428,
   "metadata": {},
   "outputs": [
    {
     "name": "stdout",
     "output_type": "stream",
     "text": [
      "[16:42:58] WARNING: src/objective/regression_obj.cu:152: reg:linear is now deprecated in favor of reg:squarederror.\n"
     ]
    }
   ],
   "source": [
    "xg_reg.fit(X,y)\n",
    "preds_xgboost_1 = xg_reg.predict(test)"
   ]
  },
  {
   "cell_type": "markdown",
   "metadata": {},
   "source": [
    "#### 6.2  Xgboost Model 2\n",
    "Add min, max, mean purchase price"
   ]
  },
  {
   "cell_type": "code",
   "execution_count": 429,
   "metadata": {},
   "outputs": [],
   "source": [
    "def getPurchaseVar(compute_df, purchase_df, var_name):\n",
    "        grouped_df = purchase_df.groupby(var_name)\n",
    "        min_dict = {}\n",
    "        max_dict = {}\n",
    "        mean_dict = {}\n",
    "        for name, group in grouped_df:\n",
    "                min_dict[name] = min(np.array(group[\"Purchase\"])) #numpy build-in aggregate min, max, mean for array\n",
    "                max_dict[name] = max(np.array(group[\"Purchase\"]))\n",
    "                mean_dict[name] = np.mean(np.array(group[\"Purchase\"]))\n",
    "                \n",
    "\n",
    "        min_list = []\n",
    "        max_list = []\n",
    "        mean_list =[]\n",
    "        for index, row in compute_df.iterrows():\n",
    "                name = row[var_name]\n",
    "                min_list.append(min_dict.get(name,0))\n",
    "                max_list.append(max_dict.get(name,0))\n",
    "                mean_list.append(mean_dict.get(name,0))\n",
    "\n",
    "        return min_list, max_list, mean_list"
   ]
  },
  {
   "cell_type": "code",
   "execution_count": 432,
   "metadata": {},
   "outputs": [],
   "source": [
    "#for Sample data\n",
    "min_price_list, max_price_list, mean_price_list = getPurchaseVar(Train_sample, Train_sample, \"User_ID\")\n",
    "Train_sample[\"User_ID_MinPrice\"] = min_price_list\n",
    "Train_sample[\"User_ID_MaxPrice\"] = max_price_list\n",
    "Train_sample[\"User_ID_MeanPrice\"] = mean_price_list\n"
   ]
  },
  {
   "cell_type": "code",
   "execution_count": 442,
   "metadata": {},
   "outputs": [],
   "source": [
    "min_price_list, max_price_list, mean_price_list = getPurchaseVar(Train_sample, Train_sample, \"Product_ID\")\n",
    "Train_sample[\"Product_ID_MinPrice\"] = min_price_list\n",
    "Train_sample[\"Product_ID_MaxPrice\"] = max_price_list\n",
    "Train_sample[\"Product_ID_MeanPrice\"] = mean_price_list"
   ]
  },
  {
   "cell_type": "code",
   "execution_count": 443,
   "metadata": {},
   "outputs": [
    {
     "data": {
      "text/html": [
       "<div>\n",
       "<style scoped>\n",
       "    .dataframe tbody tr th:only-of-type {\n",
       "        vertical-align: middle;\n",
       "    }\n",
       "\n",
       "    .dataframe tbody tr th {\n",
       "        vertical-align: top;\n",
       "    }\n",
       "\n",
       "    .dataframe thead th {\n",
       "        text-align: right;\n",
       "    }\n",
       "</style>\n",
       "<table border=\"1\" class=\"dataframe\">\n",
       "  <thead>\n",
       "    <tr style=\"text-align: right;\">\n",
       "      <th></th>\n",
       "      <th>User_ID</th>\n",
       "      <th>Product_ID</th>\n",
       "      <th>Gender</th>\n",
       "      <th>Age</th>\n",
       "      <th>Occupation</th>\n",
       "      <th>City_Category</th>\n",
       "      <th>Stay_In_Current_City_Years</th>\n",
       "      <th>Marital_Status</th>\n",
       "      <th>Product_Category_1</th>\n",
       "      <th>Purchase</th>\n",
       "      <th>...</th>\n",
       "      <th>Occupation_Count</th>\n",
       "      <th>Product_Category_1_Count</th>\n",
       "      <th>User_ID_Count</th>\n",
       "      <th>Product_ID_Count</th>\n",
       "      <th>User_ID_MinPrice</th>\n",
       "      <th>User_ID_MaxPrice</th>\n",
       "      <th>User_ID_MeanPrice</th>\n",
       "      <th>Product_ID_MinPrice</th>\n",
       "      <th>Product_ID_MaxPrice</th>\n",
       "      <th>Product_ID_MeanPrice</th>\n",
       "    </tr>\n",
       "  </thead>\n",
       "  <tbody>\n",
       "    <tr>\n",
       "      <th>413090</th>\n",
       "      <td>3502</td>\n",
       "      <td>513</td>\n",
       "      <td>1</td>\n",
       "      <td>3</td>\n",
       "      <td>20</td>\n",
       "      <td>1</td>\n",
       "      <td>4</td>\n",
       "      <td>1</td>\n",
       "      <td>8</td>\n",
       "      <td>9973</td>\n",
       "      <td>...</td>\n",
       "      <td>33562</td>\n",
       "      <td>113925</td>\n",
       "      <td>203</td>\n",
       "      <td>1249</td>\n",
       "      <td>37</td>\n",
       "      <td>16189</td>\n",
       "      <td>8263.705882</td>\n",
       "      <td>2015</td>\n",
       "      <td>10077</td>\n",
       "      <td>8994.545455</td>\n",
       "    </tr>\n",
       "    <tr>\n",
       "      <th>246967</th>\n",
       "      <td>1955</td>\n",
       "      <td>3010</td>\n",
       "      <td>1</td>\n",
       "      <td>2</td>\n",
       "      <td>4</td>\n",
       "      <td>1</td>\n",
       "      <td>3</td>\n",
       "      <td>1</td>\n",
       "      <td>5</td>\n",
       "      <td>3577</td>\n",
       "      <td>...</td>\n",
       "      <td>72308</td>\n",
       "      <td>150933</td>\n",
       "      <td>338</td>\n",
       "      <td>197</td>\n",
       "      <td>1465</td>\n",
       "      <td>19176</td>\n",
       "      <td>8024.250000</td>\n",
       "      <td>1797</td>\n",
       "      <td>7181</td>\n",
       "      <td>5617.055556</td>\n",
       "    </tr>\n",
       "    <tr>\n",
       "      <th>268623</th>\n",
       "      <td>5256</td>\n",
       "      <td>510</td>\n",
       "      <td>1</td>\n",
       "      <td>1</td>\n",
       "      <td>0</td>\n",
       "      <td>0</td>\n",
       "      <td>2</td>\n",
       "      <td>0</td>\n",
       "      <td>8</td>\n",
       "      <td>7914</td>\n",
       "      <td>...</td>\n",
       "      <td>69638</td>\n",
       "      <td>113925</td>\n",
       "      <td>475</td>\n",
       "      <td>259</td>\n",
       "      <td>772</td>\n",
       "      <td>17011</td>\n",
       "      <td>7988.363636</td>\n",
       "      <td>3885</td>\n",
       "      <td>10012</td>\n",
       "      <td>7606.166667</td>\n",
       "    </tr>\n",
       "    <tr>\n",
       "      <th>404234</th>\n",
       "      <td>2064</td>\n",
       "      <td>2833</td>\n",
       "      <td>1</td>\n",
       "      <td>2</td>\n",
       "      <td>0</td>\n",
       "      <td>1</td>\n",
       "      <td>1</td>\n",
       "      <td>1</td>\n",
       "      <td>8</td>\n",
       "      <td>7824</td>\n",
       "      <td>...</td>\n",
       "      <td>69638</td>\n",
       "      <td>113925</td>\n",
       "      <td>357</td>\n",
       "      <td>30</td>\n",
       "      <td>391</td>\n",
       "      <td>20634</td>\n",
       "      <td>8221.976744</td>\n",
       "      <td>6199</td>\n",
       "      <td>8128</td>\n",
       "      <td>7383.666667</td>\n",
       "    </tr>\n",
       "    <tr>\n",
       "      <th>536980</th>\n",
       "      <td>4532</td>\n",
       "      <td>294</td>\n",
       "      <td>1</td>\n",
       "      <td>3</td>\n",
       "      <td>20</td>\n",
       "      <td>1</td>\n",
       "      <td>1</td>\n",
       "      <td>1</td>\n",
       "      <td>1</td>\n",
       "      <td>7666</td>\n",
       "      <td>...</td>\n",
       "      <td>33562</td>\n",
       "      <td>140378</td>\n",
       "      <td>499</td>\n",
       "      <td>218</td>\n",
       "      <td>575</td>\n",
       "      <td>23282</td>\n",
       "      <td>9697.529412</td>\n",
       "      <td>3874</td>\n",
       "      <td>15909</td>\n",
       "      <td>9825.277778</td>\n",
       "    </tr>\n",
       "  </tbody>\n",
       "</table>\n",
       "<p>5 rows × 21 columns</p>\n",
       "</div>"
      ],
      "text/plain": [
       "        User_ID  Product_ID  Gender  Age  Occupation  City_Category  \\\n",
       "413090     3502         513       1    3          20              1   \n",
       "246967     1955        3010       1    2           4              1   \n",
       "268623     5256         510       1    1           0              0   \n",
       "404234     2064        2833       1    2           0              1   \n",
       "536980     4532         294       1    3          20              1   \n",
       "\n",
       "        Stay_In_Current_City_Years  Marital_Status  Product_Category_1  \\\n",
       "413090                           4               1                   8   \n",
       "246967                           3               1                   5   \n",
       "268623                           2               0                   8   \n",
       "404234                           1               1                   8   \n",
       "536980                           1               1                   1   \n",
       "\n",
       "        Purchase  ...  Occupation_Count  Product_Category_1_Count  \\\n",
       "413090      9973  ...             33562                    113925   \n",
       "246967      3577  ...             72308                    150933   \n",
       "268623      7914  ...             69638                    113925   \n",
       "404234      7824  ...             69638                    113925   \n",
       "536980      7666  ...             33562                    140378   \n",
       "\n",
       "        User_ID_Count  Product_ID_Count  User_ID_MinPrice  User_ID_MaxPrice  \\\n",
       "413090            203              1249                37             16189   \n",
       "246967            338               197              1465             19176   \n",
       "268623            475               259               772             17011   \n",
       "404234            357                30               391             20634   \n",
       "536980            499               218               575             23282   \n",
       "\n",
       "        User_ID_MeanPrice  Product_ID_MinPrice  Product_ID_MaxPrice  \\\n",
       "413090        8263.705882                 2015                10077   \n",
       "246967        8024.250000                 1797                 7181   \n",
       "268623        7988.363636                 3885                10012   \n",
       "404234        8221.976744                 6199                 8128   \n",
       "536980        9697.529412                 3874                15909   \n",
       "\n",
       "        Product_ID_MeanPrice  \n",
       "413090           8994.545455  \n",
       "246967           5617.055556  \n",
       "268623           7606.166667  \n",
       "404234           7383.666667  \n",
       "536980           9825.277778  \n",
       "\n",
       "[5 rows x 21 columns]"
      ]
     },
     "execution_count": 443,
     "metadata": {},
     "output_type": "execute_result"
    }
   ],
   "source": [
    "Train_sample.head()"
   ]
  },
  {
   "cell_type": "markdown",
   "metadata": {},
   "source": [
    "Check cross-validation"
   ]
  },
  {
   "cell_type": "code",
   "execution_count": 444,
   "metadata": {},
   "outputs": [],
   "source": [
    "X2 = Train_sample.drop(['Purchase'], axis=1)\n",
    "y2 = Train_sample['Purchase']"
   ]
  },
  {
   "cell_type": "code",
   "execution_count": 445,
   "metadata": {},
   "outputs": [],
   "source": [
    "dtrain2 = xgb.DMatrix(data=X2,label=y2)"
   ]
  },
  {
   "cell_type": "code",
   "execution_count": 446,
   "metadata": {},
   "outputs": [],
   "source": [
    "model2_cv=xgb.cv(param, dtrain2, num_round, nfold=4, seed=2244) # test-rmse-mean : lowest  2699"
   ]
  },
  {
   "cell_type": "code",
   "execution_count": 447,
   "metadata": {},
   "outputs": [
    {
     "data": {
      "text/html": [
       "<div>\n",
       "<style scoped>\n",
       "    .dataframe tbody tr th:only-of-type {\n",
       "        vertical-align: middle;\n",
       "    }\n",
       "\n",
       "    .dataframe tbody tr th {\n",
       "        vertical-align: top;\n",
       "    }\n",
       "\n",
       "    .dataframe thead th {\n",
       "        text-align: right;\n",
       "    }\n",
       "</style>\n",
       "<table border=\"1\" class=\"dataframe\">\n",
       "  <thead>\n",
       "    <tr style=\"text-align: right;\">\n",
       "      <th></th>\n",
       "      <th>train-rmse-mean</th>\n",
       "      <th>train-rmse-std</th>\n",
       "      <th>test-rmse-mean</th>\n",
       "      <th>test-rmse-std</th>\n",
       "    </tr>\n",
       "  </thead>\n",
       "  <tbody>\n",
       "    <tr>\n",
       "      <th>0</th>\n",
       "      <td>10079.621826</td>\n",
       "      <td>7.625097</td>\n",
       "      <td>10081.706543</td>\n",
       "      <td>25.740119</td>\n",
       "    </tr>\n",
       "    <tr>\n",
       "      <th>1</th>\n",
       "      <td>9605.391358</td>\n",
       "      <td>6.830099</td>\n",
       "      <td>9608.642578</td>\n",
       "      <td>24.445416</td>\n",
       "    </tr>\n",
       "    <tr>\n",
       "      <th>2</th>\n",
       "      <td>9159.689942</td>\n",
       "      <td>7.092587</td>\n",
       "      <td>9164.163818</td>\n",
       "      <td>23.454142</td>\n",
       "    </tr>\n",
       "    <tr>\n",
       "      <th>3</th>\n",
       "      <td>8734.766358</td>\n",
       "      <td>6.252227</td>\n",
       "      <td>8740.965820</td>\n",
       "      <td>24.025013</td>\n",
       "    </tr>\n",
       "    <tr>\n",
       "      <th>4</th>\n",
       "      <td>8333.616699</td>\n",
       "      <td>5.789416</td>\n",
       "      <td>8341.171387</td>\n",
       "      <td>22.865023</td>\n",
       "    </tr>\n",
       "  </tbody>\n",
       "</table>\n",
       "</div>"
      ],
      "text/plain": [
       "   train-rmse-mean  train-rmse-std  test-rmse-mean  test-rmse-std\n",
       "0     10079.621826        7.625097    10081.706543      25.740119\n",
       "1      9605.391358        6.830099     9608.642578      24.445416\n",
       "2      9159.689942        7.092587     9164.163818      23.454142\n",
       "3      8734.766358        6.252227     8740.965820      24.025013\n",
       "4      8333.616699        5.789416     8341.171387      22.865023"
      ]
     },
     "execution_count": 447,
     "metadata": {},
     "output_type": "execute_result"
    }
   ],
   "source": [
    "model2_cv.head()"
   ]
  },
  {
   "cell_type": "code",
   "execution_count": 448,
   "metadata": {},
   "outputs": [
    {
     "name": "stdout",
     "output_type": "stream",
     "text": [
      "2307.1296384999996\n"
     ]
    }
   ],
   "source": [
    "print((model2_cv[\"test-rmse-mean\"]).min())# test-rmse-mean: 2307.1296384999996"
   ]
  },
  {
   "cell_type": "code",
   "execution_count": 451,
   "metadata": {},
   "outputs": [],
   "source": [
    "min_price_list, max_price_list, mean_price_list = getPurchaseVar(test, Train_sample, \"User_ID\")\n",
    "test[\"User_ID_MinPrice\"] = min_price_list\n",
    "test[\"User_ID_MaxPrice\"] = max_price_list\n",
    "test[\"User_ID_MeanPrice\"] = mean_price_list\n",
    "min_price_list, max_price_list, mean_price_list = getPurchaseVar(test, Train_sample, \"Product_ID\")\n",
    "test[\"Product_ID_MinPrice\"] = min_price_list\n",
    "test[\"Product_ID_MaxPrice\"] = max_price_list\n",
    "test[\"Product_ID_MeanPrice\"] = mean_price_list\n",
    " "
   ]
  },
  {
   "cell_type": "code",
   "execution_count": 452,
   "metadata": {},
   "outputs": [
    {
     "data": {
      "text/html": [
       "<div>\n",
       "<style scoped>\n",
       "    .dataframe tbody tr th:only-of-type {\n",
       "        vertical-align: middle;\n",
       "    }\n",
       "\n",
       "    .dataframe tbody tr th {\n",
       "        vertical-align: top;\n",
       "    }\n",
       "\n",
       "    .dataframe thead th {\n",
       "        text-align: right;\n",
       "    }\n",
       "</style>\n",
       "<table border=\"1\" class=\"dataframe\">\n",
       "  <thead>\n",
       "    <tr style=\"text-align: right;\">\n",
       "      <th></th>\n",
       "      <th>User_ID</th>\n",
       "      <th>Product_ID</th>\n",
       "      <th>Gender</th>\n",
       "      <th>Age</th>\n",
       "      <th>Occupation</th>\n",
       "      <th>City_Category</th>\n",
       "      <th>Stay_In_Current_City_Years</th>\n",
       "      <th>Marital_Status</th>\n",
       "      <th>Product_Category_1</th>\n",
       "      <th>Age_Count</th>\n",
       "      <th>Occupation_Count</th>\n",
       "      <th>Product_Category_1_Count</th>\n",
       "      <th>User_ID_Count</th>\n",
       "      <th>Product_ID_Count</th>\n",
       "      <th>User_ID_MinPrice</th>\n",
       "      <th>User_ID_MaxPrice</th>\n",
       "      <th>User_ID_MeanPrice</th>\n",
       "      <th>Product_ID_MinPrice</th>\n",
       "      <th>Product_ID_MaxPrice</th>\n",
       "      <th>Product_ID_MeanPrice</th>\n",
       "    </tr>\n",
       "  </thead>\n",
       "  <tbody>\n",
       "    <tr>\n",
       "      <th>0</th>\n",
       "      <td>3</td>\n",
       "      <td>1279</td>\n",
       "      <td>1</td>\n",
       "      <td>4</td>\n",
       "      <td>7</td>\n",
       "      <td>1</td>\n",
       "      <td>2</td>\n",
       "      <td>1</td>\n",
       "      <td>1</td>\n",
       "      <td>45701</td>\n",
       "      <td>59133</td>\n",
       "      <td>140378</td>\n",
       "      <td>14</td>\n",
       "      <td>936</td>\n",
       "      <td>15686</td>\n",
       "      <td>15686</td>\n",
       "      <td>15686.000000</td>\n",
       "      <td>4155</td>\n",
       "      <td>19705</td>\n",
       "      <td>16122.127451</td>\n",
       "    </tr>\n",
       "    <tr>\n",
       "      <th>1</th>\n",
       "      <td>8</td>\n",
       "      <td>1126</td>\n",
       "      <td>1</td>\n",
       "      <td>2</td>\n",
       "      <td>17</td>\n",
       "      <td>2</td>\n",
       "      <td>0</td>\n",
       "      <td>0</td>\n",
       "      <td>3</td>\n",
       "      <td>219587</td>\n",
       "      <td>40043</td>\n",
       "      <td>20213</td>\n",
       "      <td>58</td>\n",
       "      <td>254</td>\n",
       "      <td>5887</td>\n",
       "      <td>19702</td>\n",
       "      <td>10511.333333</td>\n",
       "      <td>7943</td>\n",
       "      <td>13632</td>\n",
       "      <td>11994.238095</td>\n",
       "    </tr>\n",
       "    <tr>\n",
       "      <th>2</th>\n",
       "      <td>9</td>\n",
       "      <td>2862</td>\n",
       "      <td>0</td>\n",
       "      <td>3</td>\n",
       "      <td>1</td>\n",
       "      <td>1</td>\n",
       "      <td>4</td>\n",
       "      <td>1</td>\n",
       "      <td>5</td>\n",
       "      <td>110013</td>\n",
       "      <td>47426</td>\n",
       "      <td>150933</td>\n",
       "      <td>223</td>\n",
       "      <td>142</td>\n",
       "      <td>768</td>\n",
       "      <td>15985</td>\n",
       "      <td>8903.550000</td>\n",
       "      <td>1913</td>\n",
       "      <td>8873</td>\n",
       "      <td>5633.900000</td>\n",
       "    </tr>\n",
       "    <tr>\n",
       "      <th>3</th>\n",
       "      <td>9</td>\n",
       "      <td>1442</td>\n",
       "      <td>0</td>\n",
       "      <td>3</td>\n",
       "      <td>1</td>\n",
       "      <td>1</td>\n",
       "      <td>4</td>\n",
       "      <td>1</td>\n",
       "      <td>4</td>\n",
       "      <td>110013</td>\n",
       "      <td>47426</td>\n",
       "      <td>11753</td>\n",
       "      <td>223</td>\n",
       "      <td>15</td>\n",
       "      <td>768</td>\n",
       "      <td>15985</td>\n",
       "      <td>8903.550000</td>\n",
       "      <td>1419</td>\n",
       "      <td>1419</td>\n",
       "      <td>1419.000000</td>\n",
       "    </tr>\n",
       "    <tr>\n",
       "      <th>4</th>\n",
       "      <td>10</td>\n",
       "      <td>537</td>\n",
       "      <td>0</td>\n",
       "      <td>2</td>\n",
       "      <td>1</td>\n",
       "      <td>2</td>\n",
       "      <td>1</td>\n",
       "      <td>0</td>\n",
       "      <td>4</td>\n",
       "      <td>219587</td>\n",
       "      <td>47426</td>\n",
       "      <td>11753</td>\n",
       "      <td>70</td>\n",
       "      <td>567</td>\n",
       "      <td>2138</td>\n",
       "      <td>16222</td>\n",
       "      <td>7422.250000</td>\n",
       "      <td>707</td>\n",
       "      <td>3547</td>\n",
       "      <td>2640.327586</td>\n",
       "    </tr>\n",
       "  </tbody>\n",
       "</table>\n",
       "</div>"
      ],
      "text/plain": [
       "   User_ID  Product_ID  Gender  Age  Occupation  City_Category  \\\n",
       "0        3        1279       1    4           7              1   \n",
       "1        8        1126       1    2          17              2   \n",
       "2        9        2862       0    3           1              1   \n",
       "3        9        1442       0    3           1              1   \n",
       "4       10         537       0    2           1              2   \n",
       "\n",
       "   Stay_In_Current_City_Years  Marital_Status  Product_Category_1  Age_Count  \\\n",
       "0                           2               1                   1      45701   \n",
       "1                           0               0                   3     219587   \n",
       "2                           4               1                   5     110013   \n",
       "3                           4               1                   4     110013   \n",
       "4                           1               0                   4     219587   \n",
       "\n",
       "   Occupation_Count  Product_Category_1_Count  User_ID_Count  \\\n",
       "0             59133                    140378             14   \n",
       "1             40043                     20213             58   \n",
       "2             47426                    150933            223   \n",
       "3             47426                     11753            223   \n",
       "4             47426                     11753             70   \n",
       "\n",
       "   Product_ID_Count  User_ID_MinPrice  User_ID_MaxPrice  User_ID_MeanPrice  \\\n",
       "0               936             15686             15686       15686.000000   \n",
       "1               254              5887             19702       10511.333333   \n",
       "2               142               768             15985        8903.550000   \n",
       "3                15               768             15985        8903.550000   \n",
       "4               567              2138             16222        7422.250000   \n",
       "\n",
       "   Product_ID_MinPrice  Product_ID_MaxPrice  Product_ID_MeanPrice  \n",
       "0                 4155                19705          16122.127451  \n",
       "1                 7943                13632          11994.238095  \n",
       "2                 1913                 8873           5633.900000  \n",
       "3                 1419                 1419           1419.000000  \n",
       "4                  707                 3547           2640.327586  "
      ]
     },
     "execution_count": 452,
     "metadata": {},
     "output_type": "execute_result"
    }
   ],
   "source": [
    "test.head()"
   ]
  },
  {
   "cell_type": "markdown",
   "metadata": {},
   "source": [
    "#### Xgboost Predict 2"
   ]
  },
  {
   "cell_type": "code",
   "execution_count": 453,
   "metadata": {},
   "outputs": [],
   "source": [
    "xg_reg2 = xgb.XGBRegressor(objective ='reg:linear', colsample_bytree = 0.7, learning_rate = 0.1,\n",
    "                max_depth = 10, alpha = 10, n_estimators = 10)"
   ]
  },
  {
   "cell_type": "code",
   "execution_count": 456,
   "metadata": {},
   "outputs": [
    {
     "name": "stdout",
     "output_type": "stream",
     "text": [
      "[17:13:12] WARNING: src/objective/regression_obj.cu:152: reg:linear is now deprecated in favor of reg:squarederror.\n"
     ]
    }
   ],
   "source": [
    "xg_reg2.fit(X2,y2)\n",
    "preds_xgboost_2 = xg_reg2.predict(test)"
   ]
  },
  {
   "cell_type": "markdown",
   "metadata": {},
   "source": [
    "#### 6.3 Xgboost Model 3\n",
    "Add 25%, 75% purchase price"
   ]
  },
  {
   "cell_type": "code",
   "execution_count": 473,
   "metadata": {},
   "outputs": [],
   "source": [
    "def getPurchaseVar_2(compute_df, purchase_df, var_name):\n",
    "    grouped_df = purchase_df.groupby(var_name)\n",
    "    twentyfive_dict = {}\n",
    "    seventyfive_dict = {}\n",
    "    for name, group in grouped_df:\n",
    "        twentyfive_dict[name] = np.percentile(np.array(group[\"Purchase\"]),25)\n",
    "        seventyfive_dict[name] = np.percentile(np.array(group[\"Purchase\"]),75)\n",
    "        \n",
    "    twentyfive_list = []\n",
    "    seventyfive_list = []\n",
    "    for index, row in compute_df.iterrows():\n",
    "        name = row[var_name]\n",
    "        twentyfive_list.append( twentyfive_dict.get(name,0))\n",
    "        seventyfive_list.append( seventyfive_dict.get(name,0))\n",
    "    return twentyfive_list, seventyfive_list\n"
   ]
  },
  {
   "cell_type": "code",
   "execution_count": 471,
   "metadata": {},
   "outputs": [],
   "source": [
    "twentyfive_dict = {}\n",
    "seventyfive_dict = {}\n",
    "grouped_df = Train_sample.groupby(\"User_ID\")\n",
    "for name, group in grouped_df:\n",
    "    twentyfive_dict[name] = np.percentile(np.array(group[\"Purchase\"]),25)\n",
    "    seventyfive_dict[name] = np.percentile(np.array(group[\"Purchase\"]),75)\n",
    "\n",
    "twentyfive_list = []\n",
    "seventyfive_list = []\n",
    "\n",
    "for index, row in Train_sample.iterrows():\n",
    "    name = row[\"User_ID\"]\n",
    "    twentyfive_list.append( twentyfive_dict.get(name,0))\n",
    "    seventyfive_list.append( seventyfive_dict.get(name,0))"
   ]
  },
  {
   "cell_type": "code",
   "execution_count": 474,
   "metadata": {},
   "outputs": [],
   "source": [
    "twentyfive_price_list, seventyfive_price_list = getPurchaseVar_2(Train_sample, Train_sample, \"User_ID\")\n",
    "Train_sample[\"User_ID_25PercPrice\"] = twentyfive_price_list\n",
    "Train_sample[\"User_ID_75PercPrice\"] = seventyfive_price_list\n",
    "\n",
    "twentyfive_price_list, seventyfive_price_list = getPurchaseVar_2(Train_sample, Train_sample, \"Product_ID\")\n",
    "Train_sample[\"Product_ID_25PercPrice\"] = twentyfive_price_list\n",
    "Train_sample[\"Product_ID_75PercPrice\"] = seventyfive_price_list\n",
    "\n",
    "\n",
    " "
   ]
  },
  {
   "cell_type": "code",
   "execution_count": 476,
   "metadata": {},
   "outputs": [
    {
     "data": {
      "text/html": [
       "<div>\n",
       "<style scoped>\n",
       "    .dataframe tbody tr th:only-of-type {\n",
       "        vertical-align: middle;\n",
       "    }\n",
       "\n",
       "    .dataframe tbody tr th {\n",
       "        vertical-align: top;\n",
       "    }\n",
       "\n",
       "    .dataframe thead th {\n",
       "        text-align: right;\n",
       "    }\n",
       "</style>\n",
       "<table border=\"1\" class=\"dataframe\">\n",
       "  <thead>\n",
       "    <tr style=\"text-align: right;\">\n",
       "      <th></th>\n",
       "      <th>User_ID</th>\n",
       "      <th>Product_ID</th>\n",
       "      <th>Gender</th>\n",
       "      <th>Age</th>\n",
       "      <th>Occupation</th>\n",
       "      <th>City_Category</th>\n",
       "      <th>Stay_In_Current_City_Years</th>\n",
       "      <th>Marital_Status</th>\n",
       "      <th>Product_Category_1</th>\n",
       "      <th>Purchase</th>\n",
       "      <th>...</th>\n",
       "      <th>User_ID_MinPrice</th>\n",
       "      <th>User_ID_MaxPrice</th>\n",
       "      <th>User_ID_MeanPrice</th>\n",
       "      <th>Product_ID_MinPrice</th>\n",
       "      <th>Product_ID_MaxPrice</th>\n",
       "      <th>Product_ID_MeanPrice</th>\n",
       "      <th>User_ID_25PercPrice</th>\n",
       "      <th>User_ID_75PercPrice</th>\n",
       "      <th>Product_ID_25PercPrice</th>\n",
       "      <th>Product_ID_75PercPrice</th>\n",
       "    </tr>\n",
       "  </thead>\n",
       "  <tbody>\n",
       "    <tr>\n",
       "      <th>413090</th>\n",
       "      <td>3502</td>\n",
       "      <td>513</td>\n",
       "      <td>1</td>\n",
       "      <td>3</td>\n",
       "      <td>20</td>\n",
       "      <td>1</td>\n",
       "      <td>4</td>\n",
       "      <td>1</td>\n",
       "      <td>8</td>\n",
       "      <td>9973</td>\n",
       "      <td>...</td>\n",
       "      <td>37</td>\n",
       "      <td>16189</td>\n",
       "      <td>8263.705882</td>\n",
       "      <td>2015</td>\n",
       "      <td>10077</td>\n",
       "      <td>8994.545455</td>\n",
       "      <td>5413.00</td>\n",
       "      <td>12208.00</td>\n",
       "      <td>8039.00</td>\n",
       "      <td>9922.00</td>\n",
       "    </tr>\n",
       "    <tr>\n",
       "      <th>246967</th>\n",
       "      <td>1955</td>\n",
       "      <td>3010</td>\n",
       "      <td>1</td>\n",
       "      <td>2</td>\n",
       "      <td>4</td>\n",
       "      <td>1</td>\n",
       "      <td>3</td>\n",
       "      <td>1</td>\n",
       "      <td>5</td>\n",
       "      <td>3577</td>\n",
       "      <td>...</td>\n",
       "      <td>1465</td>\n",
       "      <td>19176</td>\n",
       "      <td>8024.250000</td>\n",
       "      <td>1797</td>\n",
       "      <td>7181</td>\n",
       "      <td>5617.055556</td>\n",
       "      <td>4047.25</td>\n",
       "      <td>11804.25</td>\n",
       "      <td>4135.25</td>\n",
       "      <td>6982.50</td>\n",
       "    </tr>\n",
       "    <tr>\n",
       "      <th>268623</th>\n",
       "      <td>5256</td>\n",
       "      <td>510</td>\n",
       "      <td>1</td>\n",
       "      <td>1</td>\n",
       "      <td>0</td>\n",
       "      <td>0</td>\n",
       "      <td>2</td>\n",
       "      <td>0</td>\n",
       "      <td>8</td>\n",
       "      <td>7914</td>\n",
       "      <td>...</td>\n",
       "      <td>772</td>\n",
       "      <td>17011</td>\n",
       "      <td>7988.363636</td>\n",
       "      <td>3885</td>\n",
       "      <td>10012</td>\n",
       "      <td>7606.166667</td>\n",
       "      <td>5937.00</td>\n",
       "      <td>9827.25</td>\n",
       "      <td>7774.75</td>\n",
       "      <td>8037.25</td>\n",
       "    </tr>\n",
       "    <tr>\n",
       "      <th>404234</th>\n",
       "      <td>2064</td>\n",
       "      <td>2833</td>\n",
       "      <td>1</td>\n",
       "      <td>2</td>\n",
       "      <td>0</td>\n",
       "      <td>1</td>\n",
       "      <td>1</td>\n",
       "      <td>1</td>\n",
       "      <td>8</td>\n",
       "      <td>7824</td>\n",
       "      <td>...</td>\n",
       "      <td>391</td>\n",
       "      <td>20634</td>\n",
       "      <td>8221.976744</td>\n",
       "      <td>6199</td>\n",
       "      <td>8128</td>\n",
       "      <td>7383.666667</td>\n",
       "      <td>4904.50</td>\n",
       "      <td>9945.50</td>\n",
       "      <td>7011.50</td>\n",
       "      <td>7976.00</td>\n",
       "    </tr>\n",
       "    <tr>\n",
       "      <th>536980</th>\n",
       "      <td>4532</td>\n",
       "      <td>294</td>\n",
       "      <td>1</td>\n",
       "      <td>3</td>\n",
       "      <td>20</td>\n",
       "      <td>1</td>\n",
       "      <td>1</td>\n",
       "      <td>1</td>\n",
       "      <td>1</td>\n",
       "      <td>7666</td>\n",
       "      <td>...</td>\n",
       "      <td>575</td>\n",
       "      <td>23282</td>\n",
       "      <td>9697.529412</td>\n",
       "      <td>3874</td>\n",
       "      <td>15909</td>\n",
       "      <td>9825.277778</td>\n",
       "      <td>5977.00</td>\n",
       "      <td>13549.50</td>\n",
       "      <td>7797.75</td>\n",
       "      <td>11773.00</td>\n",
       "    </tr>\n",
       "  </tbody>\n",
       "</table>\n",
       "<p>5 rows × 25 columns</p>\n",
       "</div>"
      ],
      "text/plain": [
       "        User_ID  Product_ID  Gender  Age  Occupation  City_Category  \\\n",
       "413090     3502         513       1    3          20              1   \n",
       "246967     1955        3010       1    2           4              1   \n",
       "268623     5256         510       1    1           0              0   \n",
       "404234     2064        2833       1    2           0              1   \n",
       "536980     4532         294       1    3          20              1   \n",
       "\n",
       "        Stay_In_Current_City_Years  Marital_Status  Product_Category_1  \\\n",
       "413090                           4               1                   8   \n",
       "246967                           3               1                   5   \n",
       "268623                           2               0                   8   \n",
       "404234                           1               1                   8   \n",
       "536980                           1               1                   1   \n",
       "\n",
       "        Purchase  ...  User_ID_MinPrice  User_ID_MaxPrice  User_ID_MeanPrice  \\\n",
       "413090      9973  ...                37             16189        8263.705882   \n",
       "246967      3577  ...              1465             19176        8024.250000   \n",
       "268623      7914  ...               772             17011        7988.363636   \n",
       "404234      7824  ...               391             20634        8221.976744   \n",
       "536980      7666  ...               575             23282        9697.529412   \n",
       "\n",
       "        Product_ID_MinPrice  Product_ID_MaxPrice  Product_ID_MeanPrice  \\\n",
       "413090                 2015                10077           8994.545455   \n",
       "246967                 1797                 7181           5617.055556   \n",
       "268623                 3885                10012           7606.166667   \n",
       "404234                 6199                 8128           7383.666667   \n",
       "536980                 3874                15909           9825.277778   \n",
       "\n",
       "        User_ID_25PercPrice  User_ID_75PercPrice  Product_ID_25PercPrice  \\\n",
       "413090              5413.00             12208.00                 8039.00   \n",
       "246967              4047.25             11804.25                 4135.25   \n",
       "268623              5937.00              9827.25                 7774.75   \n",
       "404234              4904.50              9945.50                 7011.50   \n",
       "536980              5977.00             13549.50                 7797.75   \n",
       "\n",
       "        Product_ID_75PercPrice  \n",
       "413090                 9922.00  \n",
       "246967                 6982.50  \n",
       "268623                 8037.25  \n",
       "404234                 7976.00  \n",
       "536980                11773.00  \n",
       "\n",
       "[5 rows x 25 columns]"
      ]
     },
     "execution_count": 476,
     "metadata": {},
     "output_type": "execute_result"
    }
   ],
   "source": [
    "Train_sample.head()"
   ]
  },
  {
   "cell_type": "code",
   "execution_count": 477,
   "metadata": {},
   "outputs": [],
   "source": [
    "X3 = Train_sample.drop(['Purchase'], axis=1)\n",
    "y3 = Train_sample['Purchase']"
   ]
  },
  {
   "cell_type": "code",
   "execution_count": 479,
   "metadata": {},
   "outputs": [],
   "source": [
    "dtrain3 = xgb.DMatrix(data=X3,label=y3)"
   ]
  },
  {
   "cell_type": "code",
   "execution_count": 480,
   "metadata": {},
   "outputs": [],
   "source": [
    "model3_cv=xgb.cv(param, dtrain3, num_round, nfold=4, seed=2244) # test-rmse-mean : lowest  2699"
   ]
  },
  {
   "cell_type": "code",
   "execution_count": 481,
   "metadata": {},
   "outputs": [
    {
     "data": {
      "text/html": [
       "<div>\n",
       "<style scoped>\n",
       "    .dataframe tbody tr th:only-of-type {\n",
       "        vertical-align: middle;\n",
       "    }\n",
       "\n",
       "    .dataframe tbody tr th {\n",
       "        vertical-align: top;\n",
       "    }\n",
       "\n",
       "    .dataframe thead th {\n",
       "        text-align: right;\n",
       "    }\n",
       "</style>\n",
       "<table border=\"1\" class=\"dataframe\">\n",
       "  <thead>\n",
       "    <tr style=\"text-align: right;\">\n",
       "      <th></th>\n",
       "      <th>train-rmse-mean</th>\n",
       "      <th>train-rmse-std</th>\n",
       "      <th>test-rmse-mean</th>\n",
       "      <th>test-rmse-std</th>\n",
       "    </tr>\n",
       "  </thead>\n",
       "  <tbody>\n",
       "    <tr>\n",
       "      <th>0</th>\n",
       "      <td>10069.433105</td>\n",
       "      <td>7.670992</td>\n",
       "      <td>10070.123291</td>\n",
       "      <td>24.130139</td>\n",
       "    </tr>\n",
       "    <tr>\n",
       "      <th>1</th>\n",
       "      <td>9595.790039</td>\n",
       "      <td>7.063721</td>\n",
       "      <td>9597.719483</td>\n",
       "      <td>23.079220</td>\n",
       "    </tr>\n",
       "    <tr>\n",
       "      <th>2</th>\n",
       "      <td>9147.258301</td>\n",
       "      <td>8.019831</td>\n",
       "      <td>9150.352539</td>\n",
       "      <td>21.017296</td>\n",
       "    </tr>\n",
       "    <tr>\n",
       "      <th>3</th>\n",
       "      <td>8722.818848</td>\n",
       "      <td>9.104619</td>\n",
       "      <td>8727.070313</td>\n",
       "      <td>19.061096</td>\n",
       "    </tr>\n",
       "    <tr>\n",
       "      <th>4</th>\n",
       "      <td>8320.214111</td>\n",
       "      <td>9.136617</td>\n",
       "      <td>8326.130859</td>\n",
       "      <td>17.368865</td>\n",
       "    </tr>\n",
       "  </tbody>\n",
       "</table>\n",
       "</div>"
      ],
      "text/plain": [
       "   train-rmse-mean  train-rmse-std  test-rmse-mean  test-rmse-std\n",
       "0     10069.433105        7.670992    10070.123291      24.130139\n",
       "1      9595.790039        7.063721     9597.719483      23.079220\n",
       "2      9147.258301        8.019831     9150.352539      21.017296\n",
       "3      8722.818848        9.104619     8727.070313      19.061096\n",
       "4      8320.214111        9.136617     8326.130859      17.368865"
      ]
     },
     "execution_count": 481,
     "metadata": {},
     "output_type": "execute_result"
    }
   ],
   "source": [
    "model3_cv.head()"
   ]
  },
  {
   "cell_type": "code",
   "execution_count": 482,
   "metadata": {},
   "outputs": [
    {
     "name": "stdout",
     "output_type": "stream",
     "text": [
      "2287.4295045\n"
     ]
    }
   ],
   "source": [
    "print((model3_cv[\"test-rmse-mean\"]).min())# test-rmse-mean: 2287.4295045"
   ]
  },
  {
   "cell_type": "markdown",
   "metadata": {},
   "source": [
    "#### Xgboost Predict 3"
   ]
  },
  {
   "cell_type": "code",
   "execution_count": 484,
   "metadata": {},
   "outputs": [],
   "source": [
    "twentyfive_price_list, seventyfive_price_list = getPurchaseVar_2(test, Train_sample, \"User_ID\")\n",
    "test[\"User_ID_25PercPrice\"] = twentyfive_price_list\n",
    "test[\"User_ID_75PercPrice\"] = seventyfive_price_list\n",
    "\n",
    "twentyfive_price_list, seventyfive_price_list = getPurchaseVar_2(test, Train_sample, \"Product_ID\")\n",
    "test[\"Product_ID_25PercPrice\"] = twentyfive_price_list\n",
    "test[\"Product_ID_75PercPrice\"] = seventyfive_price_list"
   ]
  },
  {
   "cell_type": "code",
   "execution_count": 488,
   "metadata": {},
   "outputs": [],
   "source": [
    "xg_reg3 = xgb.XGBRegressor(objective ='reg:linear', colsample_bytree = 0.7, learning_rate = 0.1,\n",
    "                max_depth = 10, alpha = 10, n_estimators = 10)"
   ]
  },
  {
   "cell_type": "code",
   "execution_count": 489,
   "metadata": {},
   "outputs": [
    {
     "name": "stdout",
     "output_type": "stream",
     "text": [
      "[17:57:42] WARNING: src/objective/regression_obj.cu:152: reg:linear is now deprecated in favor of reg:squarederror.\n"
     ]
    }
   ],
   "source": [
    "xg_reg3.fit(X3,y3)\n",
    "preds_xgboost_3 = xg_reg3.predict(test)"
   ]
  },
  {
   "cell_type": "markdown",
   "metadata": {},
   "source": [
    "### 7. Ensemble"
   ]
  },
  {
   "cell_type": "markdown",
   "metadata": {},
   "source": [
    "Finally, it was time for my finishing move, Ensemble. I built a model model which with weighted average of 3XGB models which had different subset of the above mentioned features as inputs."
   ]
  },
  {
   "cell_type": "markdown",
   "metadata": {},
   "source": [
    "In this method, we take an average of predictions from all the models and use it to make the final prediction. SO I used 'WEIGHT AVERAGED'. "
   ]
  },
  {
   "cell_type": "code",
   "execution_count": 490,
   "metadata": {},
   "outputs": [],
   "source": [
    "finalpred=(preds_xgboost_1+preds_xgboost_2+preds_xgboost_3)/3"
   ]
  }
 ],
 "metadata": {
  "kernelspec": {
   "display_name": "Python 3",
   "language": "python",
   "name": "python3"
  },
  "language_info": {
   "codemirror_mode": {
    "name": "ipython",
    "version": 3
   },
   "file_extension": ".py",
   "mimetype": "text/x-python",
   "name": "python",
   "nbconvert_exporter": "python",
   "pygments_lexer": "ipython3",
   "version": "3.7.0"
  }
 },
 "nbformat": 4,
 "nbformat_minor": 2
}
